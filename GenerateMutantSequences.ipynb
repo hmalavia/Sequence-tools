{
 "cells": [
  {
   "cell_type": "code",
   "execution_count": 52,
   "metadata": {},
   "outputs": [
    {
     "name": "stdout",
     "output_type": "stream",
     "text": [
      "Collecting termcolor\n",
      "  Downloading termcolor-2.5.0-py3-none-any.whl.metadata (6.1 kB)\n",
      "Downloading termcolor-2.5.0-py3-none-any.whl (7.8 kB)\n",
      "Installing collected packages: termcolor\n",
      "Successfully installed termcolor-2.5.0\n"
     ]
    }
   ],
   "source": [
    "!pip install termcolor"
   ]
  },
  {
   "cell_type": "code",
   "execution_count": 3,
   "metadata": {},
   "outputs": [],
   "source": [
    "from termcolor import colored"
   ]
  },
  {
   "cell_type": "code",
   "execution_count": 2,
   "metadata": {},
   "outputs": [],
   "source": [
    "aa_list = ['A', 'R', 'N', 'D', 'C', 'E', 'Q', 'G', 'H', 'I', 'L', 'K', 'M', 'F', 'P', 'S', 'T', 'W', 'Y', 'V']"
   ]
  },
  {
   "cell_type": "code",
   "execution_count": 4,
   "metadata": {},
   "outputs": [],
   "source": [
    "## Define what substitutions you want to make in the form of position_to_substitute:[list of amino acids to use for substitution] ##\n",
    "substitutions = {21:[l for l in aa_list if l not in ['C','M']],\n",
    "              22:[l for l in aa_list if l not in ['C','M']],\n",
    "              24:['I','F','L','T','S'],\n",
    "              26:['I','L','F','Y'],\n",
    "              29:[l for l in aa_list if l not in ['C','M']],\n",
    "              31:['F'],\n",
    "              33:[l for l in aa_list if l not in ['C','M']],\n",
    "              41:['Y','V','F','A','I','L','K','R'],\n",
    "              43:['R'],\n",
    "              45:['R','K']}"
   ]
  },
  {
   "cell_type": "code",
   "execution_count": 5,
   "metadata": {},
   "outputs": [],
   "source": [
    "def print_substitutions(original_sequence:str, substitutions: dict) -> None:\n",
    "    for k,v in substitutions.items():\n",
    "        print(f'pos:{k}, original_aa: {original_sequence[k-1]}, substitutions:{v}')"
   ]
  },
  {
   "cell_type": "code",
   "execution_count": 6,
   "metadata": {},
   "outputs": [],
   "source": [
    "def save_results(mutants_list:set ,original_sequence:str , file_name:str) -> None:\n",
    "    with open(f'{file_name}.txt','w') as f:\n",
    "        print(f\"{'Position':<20}\",\":\",f\"{'':>2}\".join([str(i).rjust(2) for i in range(1,len(original_sequence)+1)]),file=f)\n",
    "        print(f\"{'Original Sequence':<20}\",\":\",f\"{'':>2}\".join([i.rjust(2) for i in original_sequence]),file=f)\n",
    "        for n,mutant in enumerate(mutants_list,1):\n",
    "            print(\"Mutant\",f\"{n:<13}\",\":\",f\"{'':>2}\".join([i.rjust(2) for i in mutant]),file=f)\n",
    "    return print(f\"File: {file_name} saved successfully with {len(mutants_list)} mutant sequences.\")"
   ]
  },
  {
   "cell_type": "code",
   "execution_count": 7,
   "metadata": {},
   "outputs": [],
   "source": [
    "def save_plain_output(mutants_list:set ,original_sequence:str , file_name:str) -> None:\n",
    "    with open(f'{file_name}_plain.txt','w') as f:\n",
    "        print(original_sequence,file=f)\n",
    "        for mutant in mutants_list:\n",
    "            print(mutant,file=f)\n",
    "    print(f\"Plan text file: {file_name}_plain.txt saved successfully with {len(mutants_list)} mutant sequences.\")"
   ]
  },
  {
   "cell_type": "code",
   "execution_count": 8,
   "metadata": {},
   "outputs": [],
   "source": [
    "def generate_mutants(original_sequence:str, substitutions: dict, output_filename: str, plain_output:bool) -> set:\n",
    "    print(f\"{'Position':<20}\",\":\",f\"{'':>2}\".join([str(i).rjust(2) for i in range(1,len(original_sequence)+1)]))\n",
    "    print(f\"{'Original Sequence':<20}\",\":\",f\"{'':>2}\".join([i.rjust(2) for i in original_sequence]))\n",
    "    print(\"Substitution Strategy: \")\n",
    "    print_substitutions(original_sequence=original_sequence,substitutions=substitutions)\n",
    "    all_mutants = []\n",
    "    for k in list(substitutions.keys()):\n",
    "        pos_mutants = []\n",
    "        for l in substitutions[k]:\n",
    "            mutant = list(original_sequence)\n",
    "            mutant[k-1] = l\n",
    "            mutant = ''.join(mutant)\n",
    "            pos_mutants.append(mutant)\n",
    "        all_mutants.extend(pos_mutants)\n",
    "    all_mutants = list(dict.fromkeys(all_mutants))\n",
    "    save_results(file_name=output_filename,original_sequence=original_sequence,mutants_list=all_mutants)\n",
    "    if plain_output:\n",
    "        save_plain_output(file_name=output_filename,original_sequence=original_sequence,mutants_list=all_mutants)\n",
    "    return all_mutants"
   ]
  },
  {
   "cell_type": "code",
   "execution_count": 9,
   "metadata": {},
   "outputs": [],
   "source": [
    "def print_mutant_sequences(substitutions:dict,original_sequence:str,mutants_list:list) -> None:\n",
    "    mutant_num=1\n",
    "    for pos in list(substitutions.keys()):\n",
    "        print(f\"{'Substitution Position':<20}\",\n",
    "                \":\",\n",
    "                f\"{'':>2}\".join([str(i).rjust(2) for i in range(1,pos)]),\n",
    "                colored(pos,'red'),\n",
    "                f\"{'':>2}\".join([str(i).rjust(2) for i in range(pos+1,len(original_sequence)+1)])\n",
    "                )\n",
    "        print(f\"{'Original Sequence':<21}\",\n",
    "                        \":\",\n",
    "                        f\"{'':>2}\".join([i.rjust(2) for i in original_sequence[0:pos-1]]),\n",
    "                        colored(f\"{'':>2}\".join([i.rjust(2) for i in original_sequence[pos-1]]),'green'),\n",
    "                        f\"{'':>2}\".join([i.rjust(2) for i in original_sequence[pos:]])\n",
    "                            )\n",
    "        for mutant in mutants_list:\n",
    "            if mutant[pos-1] != original_sequence[pos-1]:\n",
    "                print(\"Mutant\",f\"{mutant_num:<14}\",\n",
    "                        \":\",\n",
    "                        f\"{'':>2}\".join([i.rjust(2) for i in mutant[0:pos-1]]),\n",
    "                        colored(f\"{'':>2}\".join([i.rjust(2) for i in mutant[pos-1]]),'red'),\n",
    "                        f\"{'':>2}\".join([i.rjust(2) for i in mutant[pos:]])\n",
    "                            )\n",
    "                mutant_num += 1\n",
    "            else:\n",
    "                pass"
   ]
  }
 ],
 "metadata": {
  "kernelspec": {
   "display_name": "base",
   "language": "python",
   "name": "python3"
  },
  "language_info": {
   "codemirror_mode": {
    "name": "ipython",
    "version": 3
   },
   "file_extension": ".py",
   "mimetype": "text/x-python",
   "name": "python",
   "nbconvert_exporter": "python",
   "pygments_lexer": "ipython3",
   "version": "3.12.7"
  }
 },
 "nbformat": 4,
 "nbformat_minor": 2
}
