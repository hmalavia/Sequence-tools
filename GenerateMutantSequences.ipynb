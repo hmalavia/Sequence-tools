{
 "cells": [
  {
   "cell_type": "code",
   "execution_count": 52,
   "metadata": {},
   "outputs": [
    {
     "name": "stdout",
     "output_type": "stream",
     "text": [
      "Collecting termcolor\n",
      "  Downloading termcolor-2.5.0-py3-none-any.whl.metadata (6.1 kB)\n",
      "Downloading termcolor-2.5.0-py3-none-any.whl (7.8 kB)\n",
      "Installing collected packages: termcolor\n",
      "Successfully installed termcolor-2.5.0\n"
     ]
    }
   ],
   "source": [
    "!pip install termcolor"
   ]
  },
  {
   "cell_type": "code",
   "execution_count": 13,
   "metadata": {},
   "outputs": [],
   "source": [
    "from termcolor import colored"
   ]
  },
  {
   "cell_type": "code",
   "execution_count": 1,
   "metadata": {},
   "outputs": [
    {
     "data": {
      "text/plain": [
       "['A',\n",
       " 'R',\n",
       " 'N',\n",
       " 'D',\n",
       " 'C',\n",
       " 'E',\n",
       " 'Q',\n",
       " 'G',\n",
       " 'H',\n",
       " 'I',\n",
       " 'L',\n",
       " 'K',\n",
       " 'M',\n",
       " 'F',\n",
       " 'P',\n",
       " 'S',\n",
       " 'T',\n",
       " 'W',\n",
       " 'Y',\n",
       " 'V']"
      ]
     },
     "execution_count": 1,
     "metadata": {},
     "output_type": "execute_result"
    }
   ],
   "source": [
    "with open('amino_acids_single_letter_code.txt','r') as f:\n",
    "    aa_list = []\n",
    "    for a in f.readline():\n",
    "        if a not in ['[',']',',']:\n",
    "            aa_list.append(a)\n",
    "aa_list"
   ]
  },
  {
   "cell_type": "code",
   "execution_count": 2,
   "metadata": {},
   "outputs": [],
   "source": [
    "substitutions = {21:[l for l in aa_list if l not in ['C','M']],\n",
    "              22:[l for l in aa_list if l not in ['C','M']],\n",
    "              24:['I','F','L','T','S'],\n",
    "              26:['I','L','F','Y'],\n",
    "              29:[l for l in aa_list if l not in ['C','M']],\n",
    "              31:['F'],\n",
    "              33:[l for l in aa_list if l not in ['C','M']],\n",
    "              41:['Y','V','F','A','I','L','K','R'],\n",
    "              43:['R'],\n",
    "              45:['R','K']}"
   ]
  },
  {
   "cell_type": "code",
   "execution_count": 3,
   "metadata": {},
   "outputs": [],
   "source": [
    "def print_substitutions(original_sequence:str, substitutions: dict) -> None:\n",
    "    for k,v in substitutions.items():\n",
    "        print(f'pos:{k}, original_aa: {original_sequence[k-1]}, substitutions:{v}')"
   ]
  },
  {
   "cell_type": "code",
   "execution_count": 145,
   "metadata": {},
   "outputs": [],
   "source": [
    "def save_results(mutants_list:set ,original_sequence:str , file_name:str) -> None:\n",
    "    with open(f'{file_name}.txt','w') as f:\n",
    "        print(f\"{'Position':<20}\",\":\",f\"{'':>2}\".join([str(i).rjust(2) for i in range(1,len(original_sequence)+1)]),file=f)\n",
    "        print(f\"{'Original Sequence':<20}\",\":\",f\"{'':>2}\".join([i.rjust(2) for i in original_sequence]),file=f)\n",
    "        for n,mutant in enumerate(mutants_list,1):\n",
    "            print(\"Mutant\",f\"{n:<13}\",\":\",f\"{'':>2}\".join([i.rjust(2) for i in mutant]),file=f)\n",
    "    return print(f\"File: {file_name} saved successfully with {len(mutants_list)} mutant sequences.\")"
   ]
  },
  {
   "cell_type": "code",
   "execution_count": 153,
   "metadata": {},
   "outputs": [],
   "source": [
    "def save_plain_output(mutants_list:set ,original_sequence:str , file_name:str) -> None:\n",
    "    with open(f'{file_name}_plain.txt','w') as f:\n",
    "        print(original_sequence,file=f)\n",
    "        for mutant in mutants_list:\n",
    "            print(mutant,file=f)\n",
    "    print(f\"Plan text file: {file_name}_plain.txt saved successfully with {len(mutants_list)} mutant sequences.\")"
   ]
  },
  {
   "cell_type": "code",
   "execution_count": 154,
   "metadata": {},
   "outputs": [],
   "source": [
    "def generate_mutants(original_sequence:str, substitutions: dict, output_filename: str, plain_output:bool) -> set:\n",
    "    print(f\"{'Position':<20}\",\":\",f\"{'':>2}\".join([str(i).rjust(2) for i in range(1,len(original_sequence)+1)]))\n",
    "    print(f\"{'Original Sequence':<20}\",\":\",f\"{'':>2}\".join([i.rjust(2) for i in original_sequence]))\n",
    "    print(\"Substitution Strategy: \")\n",
    "    print_substitutions(original_sequence=original_sequence,substitutions=substitutions)\n",
    "    all_mutants = []\n",
    "    for k in list(substitutions.keys()):\n",
    "        pos_mutants = []\n",
    "        for l in substitutions[k]:\n",
    "            mutant = list(original_sequence)\n",
    "            mutant[k-1] = l\n",
    "            mutant = ''.join(mutant)\n",
    "            pos_mutants.append(mutant)\n",
    "        all_mutants.extend(pos_mutants)\n",
    "    all_mutants = list(dict.fromkeys(all_mutants))\n",
    "    save_results(file_name=output_filename,original_sequence=original_sequence,mutants_list=all_mutants)\n",
    "    if plain_output:\n",
    "        save_plain_output(file_name=output_filename,original_sequence=original_sequence,mutants_list=all_mutants)\n",
    "    return all_mutants"
   ]
  },
  {
   "cell_type": "code",
   "execution_count": null,
   "metadata": {},
   "outputs": [],
   "source": [
    "def print_mutant_sequences(substitutions:dict,original_sequence:str,mutants_list:list) -> None:\n",
    "    mutant_num=1\n",
    "    for pos in list(substitutions.keys()):\n",
    "        print(f\"{'Substitution Position':<20}\",\n",
    "                \":\",\n",
    "                f\"{'':>2}\".join([str(i).rjust(2) for i in range(1,pos)]),\n",
    "                colored(pos,'red'),\n",
    "                f\"{'':>2}\".join([str(i).rjust(2) for i in range(pos+1,len(original_sequence)+1)])\n",
    "                )\n",
    "        print(f\"{'Original Sequence':<21}\",\n",
    "                        \":\",\n",
    "                        f\"{'':>2}\".join([i.rjust(2) for i in original_sequence[0:pos-1]]),\n",
    "                        colored(f\"{'':>2}\".join([i.rjust(2) for i in original_sequence[pos-1]]),'green'),\n",
    "                        f\"{'':>2}\".join([i.rjust(2) for i in original_sequence[pos:]])\n",
    "                            )\n",
    "        for mutant in mutants_list:\n",
    "            if mutant[pos-1] != original_sequence[pos-1]:\n",
    "                print(\"Mutant\",f\"{mutant_num:<14}\",\n",
    "                        \":\",\n",
    "                        f\"{'':>2}\".join([i.rjust(2) for i in mutant[0:pos-1]]),\n",
    "                        colored(f\"{'':>2}\".join([i.rjust(2) for i in mutant[pos-1]]),'red'),\n",
    "                        f\"{'':>2}\".join([i.rjust(2) for i in mutant[pos:]])\n",
    "                            )\n",
    "                mutant_num += 1\n",
    "            else:\n",
    "                pass"
   ]
  },
  {
   "cell_type": "code",
   "execution_count": null,
   "metadata": {},
   "outputs": [
    {
     "name": "stdout",
     "output_type": "stream",
     "text": [
      "pos:21, original_aa: I, substitutions:['A', 'R', 'N', 'D', 'E', 'Q', 'G', 'H', 'I', 'L', 'K', 'F', 'P', 'S', 'T', 'W', 'Y', 'V']\n",
      "pos:22, original_aa: T, substitutions:['A', 'R', 'N', 'D', 'E', 'Q', 'G', 'H', 'I', 'L', 'K', 'F', 'P', 'S', 'T', 'W', 'Y', 'V']\n",
      "pos:24, original_aa: T, substitutions:['I', 'F', 'L', 'T', 'S']\n",
      "pos:26, original_aa: I, substitutions:['I', 'L', 'F', 'Y']\n",
      "pos:29, original_aa: H, substitutions:['A', 'R', 'N', 'D', 'E', 'Q', 'G', 'H', 'I', 'L', 'K', 'F', 'P', 'S', 'T', 'W', 'Y', 'V']\n",
      "pos:31, original_aa: K, substitutions:['F']\n",
      "pos:33, original_aa: K, substitutions:['A', 'R', 'N', 'D', 'E', 'Q', 'G', 'H', 'I', 'L', 'K', 'F', 'P', 'S', 'T', 'W', 'Y', 'V']\n",
      "pos:41, original_aa: Y, substitutions:['Y', 'V', 'F', 'A', 'I', 'L', 'K', 'R']\n",
      "pos:43, original_aa: R, substitutions:['R']\n",
      "pos:45, original_aa: C, substitutions:['R', 'K']\n"
     ]
    }
   ],
   "source": [
    "# for k,v in variations.items():\n",
    "#     print(f'pos:{k}, original_aa: {og_seq[k-1]}, substitutions:{v}')\n",
    "# all_mutants = []\n",
    "# for k in list(variations.keys()):\n",
    "#     pos_mutants = []\n",
    "#     for l in variations[k]:\n",
    "#         mutant = list(og_seq)\n",
    "#         mutant[k-1] = l\n",
    "#         mutant = ''.join(mutant)\n",
    "#         pos_mutants.append(mutant)\n",
    "#     all_mutants.extend(pos_mutants)\n",
    "#len(all_mutants)\n",
    "# with open('mutants_output.txt','w') as f:\n",
    "#     print(f\"{'Position':<20}\",\":\",f\"{'':>2}\".join([str(i).rjust(2) for i in range(1,64)]),file=f)\n",
    "#     print(f\"{'Original Sequence':<20}\",\":\",f\"{'':>2}\".join([i.rjust(2) for i in og_seq]),file=f)\n",
    "#     for n,mutant in enumerate(all_mutants,1):\n",
    "#        print(\"Mutant\",f\"{n:<13}\",\":\",f\"{'':>2}\".join([i.rjust(2) for i in mutant]),file=f)\n",
    "# n=10\n",
    "# mutant = og_seq\n",
    "# print(f\"{'Position':<20}\",\":\",f\"{'':>2}\".join([str(i).rjust(2) for i in range(1,64)]))\n",
    "# print(f\"{'Original Sequence':<20}\",\":\",f\"{'':>2}\".join([i.rjust(2) for i in og_seq]))\n",
    "# print(\"Mutant\",f\"{n:<13}\",\":\",f\"{'':>2}\".join([i.rjust(2) for i in mutant]))\n",
    "# for pos in variations.keys():\n",
    "#     for v in variations[pos]:\n",
    "#         for mutant in all_mutants[:len(v)]:\n",
    "#             print(mutant[:pos],colored(f'{mutant[pos]}','red'),mutant[pos:])\n",
    "\n",
    "# text = colored(\"Hello, World!\", \"red\", attrs=[\"blink\"])\n",
    "# print(text)"
   ]
  },
  {
   "cell_type": "code",
   "execution_count": 57,
   "metadata": {},
   "outputs": [
    {
     "data": {
      "text/plain": [
       "63"
      ]
     },
     "execution_count": 57,
     "metadata": {},
     "output_type": "execute_result"
    }
   ],
   "source": [
    "sdy14_seq = 'MATVKFKYKGEEKQVDISKIITVTRIGKHIKFKYDLGGGKYGRGCVSEKDAPKELLQMLEKQK'\n",
    "len(sdy14_seq)"
   ]
  },
  {
   "cell_type": "code",
   "execution_count": 155,
   "metadata": {},
   "outputs": [
    {
     "name": "stdout",
     "output_type": "stream",
     "text": [
      "Position             :  1   2   3   4   5   6   7   8   9  10  11  12  13  14  15  16  17  18  19  20  21  22  23  24  25  26  27  28  29  30  31  32  33  34  35  36  37  38  39  40  41  42  43  44  45  46  47  48  49  50  51  52  53  54  55  56  57  58  59  60  61  62  63\n",
      "Original Sequence    :  M   A   T   V   K   F   K   Y   K   G   E   E   K   Q   V   D   I   S   K   I   I   T   V   T   R   I   G   K   H   I   K   F   K   Y   D   L   G   G   G   K   Y   G   R   G   C   V   S   E   K   D   A   P   K   E   L   L   Q   M   L   E   K   Q   K\n",
      "Substitution Strategy: \n",
      "pos:21, original_aa: I, substitutions:['A', 'R', 'N', 'D', 'E', 'Q', 'G', 'H', 'I', 'L', 'K', 'F', 'P', 'S', 'T', 'W', 'Y', 'V']\n",
      "pos:22, original_aa: T, substitutions:['A', 'R', 'N', 'D', 'E', 'Q', 'G', 'H', 'I', 'L', 'K', 'F', 'P', 'S', 'T', 'W', 'Y', 'V']\n",
      "pos:24, original_aa: T, substitutions:['I', 'F', 'L', 'T', 'S']\n",
      "pos:26, original_aa: I, substitutions:['I', 'L', 'F', 'Y']\n",
      "pos:29, original_aa: H, substitutions:['A', 'R', 'N', 'D', 'E', 'Q', 'G', 'H', 'I', 'L', 'K', 'F', 'P', 'S', 'T', 'W', 'Y', 'V']\n",
      "pos:31, original_aa: K, substitutions:['F']\n",
      "pos:33, original_aa: K, substitutions:['A', 'R', 'N', 'D', 'E', 'Q', 'G', 'H', 'I', 'L', 'K', 'F', 'P', 'S', 'T', 'W', 'Y', 'V']\n",
      "pos:41, original_aa: Y, substitutions:['Y', 'V', 'F', 'A', 'I', 'L', 'K', 'R']\n",
      "pos:43, original_aa: R, substitutions:['R']\n",
      "pos:45, original_aa: C, substitutions:['R', 'K']\n",
      "File: sdy14_mutants saved successfully with 86 mutant sequences.\n",
      "Plan text file: sdy14_mutants_plain.txt saved successfully with 86 mutant sequences.\n"
     ]
    }
   ],
   "source": [
    "sdy14_mutants = generate_mutants(original_sequence=sdy14_seq,substitutions=substitutions,output_filename='sdy14_mutants',plain_output=True)"
   ]
  },
  {
   "cell_type": "code",
   "execution_count": 59,
   "metadata": {},
   "outputs": [
    {
     "data": {
      "text/plain": [
       "63"
      ]
     },
     "execution_count": 59,
     "metadata": {},
     "output_type": "execute_result"
    }
   ],
   "source": [
    "sdy71_seq = 'MATVKFKYKGEEKQVDISKITHVLRTGKIIFFSYDLGGGKKGRGKVSEKDAPKELLQMLELQK'\n",
    "len(sdy71_seq)"
   ]
  },
  {
   "cell_type": "code",
   "execution_count": 156,
   "metadata": {},
   "outputs": [
    {
     "name": "stdout",
     "output_type": "stream",
     "text": [
      "Position             :  1   2   3   4   5   6   7   8   9  10  11  12  13  14  15  16  17  18  19  20  21  22  23  24  25  26  27  28  29  30  31  32  33  34  35  36  37  38  39  40  41  42  43  44  45  46  47  48  49  50  51  52  53  54  55  56  57  58  59  60  61  62  63\n",
      "Original Sequence    :  M   A   T   V   K   F   K   Y   K   G   E   E   K   Q   V   D   I   S   K   I   T   H   V   L   R   T   G   K   I   I   F   F   S   Y   D   L   G   G   G   K   K   G   R   G   K   V   S   E   K   D   A   P   K   E   L   L   Q   M   L   E   L   Q   K\n",
      "Substitution Strategy: \n",
      "pos:21, original_aa: T, substitutions:['A', 'R', 'N', 'D', 'E', 'Q', 'G', 'H', 'I', 'L', 'K', 'F', 'P', 'S', 'T', 'W', 'Y', 'V']\n",
      "pos:22, original_aa: H, substitutions:['A', 'R', 'N', 'D', 'E', 'Q', 'G', 'H', 'I', 'L', 'K', 'F', 'P', 'S', 'T', 'W', 'Y', 'V']\n",
      "pos:24, original_aa: L, substitutions:['I', 'F', 'L', 'T', 'S']\n",
      "pos:26, original_aa: T, substitutions:['I', 'L', 'F', 'Y']\n",
      "pos:29, original_aa: I, substitutions:['A', 'R', 'N', 'D', 'E', 'Q', 'G', 'H', 'I', 'L', 'K', 'F', 'P', 'S', 'T', 'W', 'Y', 'V']\n",
      "pos:31, original_aa: F, substitutions:['F']\n",
      "pos:33, original_aa: S, substitutions:['A', 'R', 'N', 'D', 'E', 'Q', 'G', 'H', 'I', 'L', 'K', 'F', 'P', 'S', 'T', 'W', 'Y', 'V']\n",
      "pos:41, original_aa: K, substitutions:['Y', 'V', 'F', 'A', 'I', 'L', 'K', 'R']\n",
      "pos:43, original_aa: R, substitutions:['R']\n",
      "pos:45, original_aa: K, substitutions:['R', 'K']\n",
      "File: sdy71_mutants saved successfully with 85 mutant sequences.\n",
      "Plan text file: sdy71_mutants_plain.txt saved successfully with 85 mutant sequences.\n"
     ]
    }
   ],
   "source": [
    "sdy71_mutants = generate_mutants(original_sequence=sdy71_seq,substitutions=substitutions,output_filename='sdy71_mutants',plain_output=True)"
   ]
  },
  {
   "cell_type": "code",
   "execution_count": 141,
   "metadata": {},
   "outputs": [
    {
     "name": "stdout",
     "output_type": "stream",
     "text": [
      "Substitution Position :  1   2   3   4   5   6   7   8   9  10  11  12  13  14  15  16  17  18  19  20 \u001b[31m21\u001b[0m 22  23  24  25  26  27  28  29  30  31  32  33  34  35  36  37  38  39  40  41  42  43  44  45  46  47  48  49  50  51  52  53  54  55  56  57  58  59  60  61  62  63\n",
      "Original Sequence     :  M   A   T   V   K   F   K   Y   K   G   E   E   K   Q   V   D   I   S   K   I \u001b[32m I\u001b[0m  T   V   T   R   I   G   K   H   I   K   F   K   Y   D   L   G   G   G   K   Y   G   R   G   C   V   S   E   K   D   A   P   K   E   L   L   Q   M   L   E   K   Q   K\n",
      "Mutant 1              :  M   A   T   V   K   F   K   Y   K   G   E   E   K   Q   V   D   I   S   K   I \u001b[31m A\u001b[0m  T   V   T   R   I   G   K   H   I   K   F   K   Y   D   L   G   G   G   K   Y   G   R   G   C   V   S   E   K   D   A   P   K   E   L   L   Q   M   L   E   K   Q   K\n",
      "Mutant 2              :  M   A   T   V   K   F   K   Y   K   G   E   E   K   Q   V   D   I   S   K   I \u001b[31m R\u001b[0m  T   V   T   R   I   G   K   H   I   K   F   K   Y   D   L   G   G   G   K   Y   G   R   G   C   V   S   E   K   D   A   P   K   E   L   L   Q   M   L   E   K   Q   K\n",
      "Mutant 3              :  M   A   T   V   K   F   K   Y   K   G   E   E   K   Q   V   D   I   S   K   I \u001b[31m N\u001b[0m  T   V   T   R   I   G   K   H   I   K   F   K   Y   D   L   G   G   G   K   Y   G   R   G   C   V   S   E   K   D   A   P   K   E   L   L   Q   M   L   E   K   Q   K\n",
      "Mutant 4              :  M   A   T   V   K   F   K   Y   K   G   E   E   K   Q   V   D   I   S   K   I \u001b[31m D\u001b[0m  T   V   T   R   I   G   K   H   I   K   F   K   Y   D   L   G   G   G   K   Y   G   R   G   C   V   S   E   K   D   A   P   K   E   L   L   Q   M   L   E   K   Q   K\n",
      "Mutant 5              :  M   A   T   V   K   F   K   Y   K   G   E   E   K   Q   V   D   I   S   K   I \u001b[31m E\u001b[0m  T   V   T   R   I   G   K   H   I   K   F   K   Y   D   L   G   G   G   K   Y   G   R   G   C   V   S   E   K   D   A   P   K   E   L   L   Q   M   L   E   K   Q   K\n",
      "Mutant 6              :  M   A   T   V   K   F   K   Y   K   G   E   E   K   Q   V   D   I   S   K   I \u001b[31m Q\u001b[0m  T   V   T   R   I   G   K   H   I   K   F   K   Y   D   L   G   G   G   K   Y   G   R   G   C   V   S   E   K   D   A   P   K   E   L   L   Q   M   L   E   K   Q   K\n",
      "Mutant 7              :  M   A   T   V   K   F   K   Y   K   G   E   E   K   Q   V   D   I   S   K   I \u001b[31m G\u001b[0m  T   V   T   R   I   G   K   H   I   K   F   K   Y   D   L   G   G   G   K   Y   G   R   G   C   V   S   E   K   D   A   P   K   E   L   L   Q   M   L   E   K   Q   K\n",
      "Mutant 8              :  M   A   T   V   K   F   K   Y   K   G   E   E   K   Q   V   D   I   S   K   I \u001b[31m H\u001b[0m  T   V   T   R   I   G   K   H   I   K   F   K   Y   D   L   G   G   G   K   Y   G   R   G   C   V   S   E   K   D   A   P   K   E   L   L   Q   M   L   E   K   Q   K\n",
      "Mutant 9              :  M   A   T   V   K   F   K   Y   K   G   E   E   K   Q   V   D   I   S   K   I \u001b[31m L\u001b[0m  T   V   T   R   I   G   K   H   I   K   F   K   Y   D   L   G   G   G   K   Y   G   R   G   C   V   S   E   K   D   A   P   K   E   L   L   Q   M   L   E   K   Q   K\n",
      "Mutant 10             :  M   A   T   V   K   F   K   Y   K   G   E   E   K   Q   V   D   I   S   K   I \u001b[31m K\u001b[0m  T   V   T   R   I   G   K   H   I   K   F   K   Y   D   L   G   G   G   K   Y   G   R   G   C   V   S   E   K   D   A   P   K   E   L   L   Q   M   L   E   K   Q   K\n",
      "Mutant 11             :  M   A   T   V   K   F   K   Y   K   G   E   E   K   Q   V   D   I   S   K   I \u001b[31m F\u001b[0m  T   V   T   R   I   G   K   H   I   K   F   K   Y   D   L   G   G   G   K   Y   G   R   G   C   V   S   E   K   D   A   P   K   E   L   L   Q   M   L   E   K   Q   K\n",
      "Mutant 12             :  M   A   T   V   K   F   K   Y   K   G   E   E   K   Q   V   D   I   S   K   I \u001b[31m P\u001b[0m  T   V   T   R   I   G   K   H   I   K   F   K   Y   D   L   G   G   G   K   Y   G   R   G   C   V   S   E   K   D   A   P   K   E   L   L   Q   M   L   E   K   Q   K\n",
      "Mutant 13             :  M   A   T   V   K   F   K   Y   K   G   E   E   K   Q   V   D   I   S   K   I \u001b[31m S\u001b[0m  T   V   T   R   I   G   K   H   I   K   F   K   Y   D   L   G   G   G   K   Y   G   R   G   C   V   S   E   K   D   A   P   K   E   L   L   Q   M   L   E   K   Q   K\n",
      "Mutant 14             :  M   A   T   V   K   F   K   Y   K   G   E   E   K   Q   V   D   I   S   K   I \u001b[31m T\u001b[0m  T   V   T   R   I   G   K   H   I   K   F   K   Y   D   L   G   G   G   K   Y   G   R   G   C   V   S   E   K   D   A   P   K   E   L   L   Q   M   L   E   K   Q   K\n",
      "Mutant 15             :  M   A   T   V   K   F   K   Y   K   G   E   E   K   Q   V   D   I   S   K   I \u001b[31m W\u001b[0m  T   V   T   R   I   G   K   H   I   K   F   K   Y   D   L   G   G   G   K   Y   G   R   G   C   V   S   E   K   D   A   P   K   E   L   L   Q   M   L   E   K   Q   K\n",
      "Mutant 16             :  M   A   T   V   K   F   K   Y   K   G   E   E   K   Q   V   D   I   S   K   I \u001b[31m Y\u001b[0m  T   V   T   R   I   G   K   H   I   K   F   K   Y   D   L   G   G   G   K   Y   G   R   G   C   V   S   E   K   D   A   P   K   E   L   L   Q   M   L   E   K   Q   K\n",
      "Mutant 17             :  M   A   T   V   K   F   K   Y   K   G   E   E   K   Q   V   D   I   S   K   I \u001b[31m V\u001b[0m  T   V   T   R   I   G   K   H   I   K   F   K   Y   D   L   G   G   G   K   Y   G   R   G   C   V   S   E   K   D   A   P   K   E   L   L   Q   M   L   E   K   Q   K\n",
      "Substitution Position :  1   2   3   4   5   6   7   8   9  10  11  12  13  14  15  16  17  18  19  20  21 \u001b[31m22\u001b[0m 23  24  25  26  27  28  29  30  31  32  33  34  35  36  37  38  39  40  41  42  43  44  45  46  47  48  49  50  51  52  53  54  55  56  57  58  59  60  61  62  63\n",
      "Original Sequence     :  M   A   T   V   K   F   K   Y   K   G   E   E   K   Q   V   D   I   S   K   I   I \u001b[32m T\u001b[0m  V   T   R   I   G   K   H   I   K   F   K   Y   D   L   G   G   G   K   Y   G   R   G   C   V   S   E   K   D   A   P   K   E   L   L   Q   M   L   E   K   Q   K\n",
      "Mutant 18             :  M   A   T   V   K   F   K   Y   K   G   E   E   K   Q   V   D   I   S   K   I   I \u001b[31m A\u001b[0m  V   T   R   I   G   K   H   I   K   F   K   Y   D   L   G   G   G   K   Y   G   R   G   C   V   S   E   K   D   A   P   K   E   L   L   Q   M   L   E   K   Q   K\n",
      "Mutant 19             :  M   A   T   V   K   F   K   Y   K   G   E   E   K   Q   V   D   I   S   K   I   I \u001b[31m R\u001b[0m  V   T   R   I   G   K   H   I   K   F   K   Y   D   L   G   G   G   K   Y   G   R   G   C   V   S   E   K   D   A   P   K   E   L   L   Q   M   L   E   K   Q   K\n",
      "Mutant 20             :  M   A   T   V   K   F   K   Y   K   G   E   E   K   Q   V   D   I   S   K   I   I \u001b[31m N\u001b[0m  V   T   R   I   G   K   H   I   K   F   K   Y   D   L   G   G   G   K   Y   G   R   G   C   V   S   E   K   D   A   P   K   E   L   L   Q   M   L   E   K   Q   K\n",
      "Mutant 21             :  M   A   T   V   K   F   K   Y   K   G   E   E   K   Q   V   D   I   S   K   I   I \u001b[31m D\u001b[0m  V   T   R   I   G   K   H   I   K   F   K   Y   D   L   G   G   G   K   Y   G   R   G   C   V   S   E   K   D   A   P   K   E   L   L   Q   M   L   E   K   Q   K\n",
      "Mutant 22             :  M   A   T   V   K   F   K   Y   K   G   E   E   K   Q   V   D   I   S   K   I   I \u001b[31m E\u001b[0m  V   T   R   I   G   K   H   I   K   F   K   Y   D   L   G   G   G   K   Y   G   R   G   C   V   S   E   K   D   A   P   K   E   L   L   Q   M   L   E   K   Q   K\n",
      "Mutant 23             :  M   A   T   V   K   F   K   Y   K   G   E   E   K   Q   V   D   I   S   K   I   I \u001b[31m Q\u001b[0m  V   T   R   I   G   K   H   I   K   F   K   Y   D   L   G   G   G   K   Y   G   R   G   C   V   S   E   K   D   A   P   K   E   L   L   Q   M   L   E   K   Q   K\n",
      "Mutant 24             :  M   A   T   V   K   F   K   Y   K   G   E   E   K   Q   V   D   I   S   K   I   I \u001b[31m G\u001b[0m  V   T   R   I   G   K   H   I   K   F   K   Y   D   L   G   G   G   K   Y   G   R   G   C   V   S   E   K   D   A   P   K   E   L   L   Q   M   L   E   K   Q   K\n",
      "Mutant 25             :  M   A   T   V   K   F   K   Y   K   G   E   E   K   Q   V   D   I   S   K   I   I \u001b[31m H\u001b[0m  V   T   R   I   G   K   H   I   K   F   K   Y   D   L   G   G   G   K   Y   G   R   G   C   V   S   E   K   D   A   P   K   E   L   L   Q   M   L   E   K   Q   K\n",
      "Mutant 26             :  M   A   T   V   K   F   K   Y   K   G   E   E   K   Q   V   D   I   S   K   I   I \u001b[31m I\u001b[0m  V   T   R   I   G   K   H   I   K   F   K   Y   D   L   G   G   G   K   Y   G   R   G   C   V   S   E   K   D   A   P   K   E   L   L   Q   M   L   E   K   Q   K\n",
      "Mutant 27             :  M   A   T   V   K   F   K   Y   K   G   E   E   K   Q   V   D   I   S   K   I   I \u001b[31m L\u001b[0m  V   T   R   I   G   K   H   I   K   F   K   Y   D   L   G   G   G   K   Y   G   R   G   C   V   S   E   K   D   A   P   K   E   L   L   Q   M   L   E   K   Q   K\n",
      "Mutant 28             :  M   A   T   V   K   F   K   Y   K   G   E   E   K   Q   V   D   I   S   K   I   I \u001b[31m K\u001b[0m  V   T   R   I   G   K   H   I   K   F   K   Y   D   L   G   G   G   K   Y   G   R   G   C   V   S   E   K   D   A   P   K   E   L   L   Q   M   L   E   K   Q   K\n",
      "Mutant 29             :  M   A   T   V   K   F   K   Y   K   G   E   E   K   Q   V   D   I   S   K   I   I \u001b[31m F\u001b[0m  V   T   R   I   G   K   H   I   K   F   K   Y   D   L   G   G   G   K   Y   G   R   G   C   V   S   E   K   D   A   P   K   E   L   L   Q   M   L   E   K   Q   K\n",
      "Mutant 30             :  M   A   T   V   K   F   K   Y   K   G   E   E   K   Q   V   D   I   S   K   I   I \u001b[31m P\u001b[0m  V   T   R   I   G   K   H   I   K   F   K   Y   D   L   G   G   G   K   Y   G   R   G   C   V   S   E   K   D   A   P   K   E   L   L   Q   M   L   E   K   Q   K\n",
      "Mutant 31             :  M   A   T   V   K   F   K   Y   K   G   E   E   K   Q   V   D   I   S   K   I   I \u001b[31m S\u001b[0m  V   T   R   I   G   K   H   I   K   F   K   Y   D   L   G   G   G   K   Y   G   R   G   C   V   S   E   K   D   A   P   K   E   L   L   Q   M   L   E   K   Q   K\n",
      "Mutant 32             :  M   A   T   V   K   F   K   Y   K   G   E   E   K   Q   V   D   I   S   K   I   I \u001b[31m W\u001b[0m  V   T   R   I   G   K   H   I   K   F   K   Y   D   L   G   G   G   K   Y   G   R   G   C   V   S   E   K   D   A   P   K   E   L   L   Q   M   L   E   K   Q   K\n",
      "Mutant 33             :  M   A   T   V   K   F   K   Y   K   G   E   E   K   Q   V   D   I   S   K   I   I \u001b[31m Y\u001b[0m  V   T   R   I   G   K   H   I   K   F   K   Y   D   L   G   G   G   K   Y   G   R   G   C   V   S   E   K   D   A   P   K   E   L   L   Q   M   L   E   K   Q   K\n",
      "Mutant 34             :  M   A   T   V   K   F   K   Y   K   G   E   E   K   Q   V   D   I   S   K   I   I \u001b[31m V\u001b[0m  V   T   R   I   G   K   H   I   K   F   K   Y   D   L   G   G   G   K   Y   G   R   G   C   V   S   E   K   D   A   P   K   E   L   L   Q   M   L   E   K   Q   K\n",
      "Substitution Position :  1   2   3   4   5   6   7   8   9  10  11  12  13  14  15  16  17  18  19  20  21  22  23 \u001b[31m24\u001b[0m 25  26  27  28  29  30  31  32  33  34  35  36  37  38  39  40  41  42  43  44  45  46  47  48  49  50  51  52  53  54  55  56  57  58  59  60  61  62  63\n",
      "Original Sequence     :  M   A   T   V   K   F   K   Y   K   G   E   E   K   Q   V   D   I   S   K   I   I   T   V \u001b[32m T\u001b[0m  R   I   G   K   H   I   K   F   K   Y   D   L   G   G   G   K   Y   G   R   G   C   V   S   E   K   D   A   P   K   E   L   L   Q   M   L   E   K   Q   K\n",
      "Mutant 35             :  M   A   T   V   K   F   K   Y   K   G   E   E   K   Q   V   D   I   S   K   I   I   T   V \u001b[31m I\u001b[0m  R   I   G   K   H   I   K   F   K   Y   D   L   G   G   G   K   Y   G   R   G   C   V   S   E   K   D   A   P   K   E   L   L   Q   M   L   E   K   Q   K\n",
      "Mutant 36             :  M   A   T   V   K   F   K   Y   K   G   E   E   K   Q   V   D   I   S   K   I   I   T   V \u001b[31m F\u001b[0m  R   I   G   K   H   I   K   F   K   Y   D   L   G   G   G   K   Y   G   R   G   C   V   S   E   K   D   A   P   K   E   L   L   Q   M   L   E   K   Q   K\n",
      "Mutant 37             :  M   A   T   V   K   F   K   Y   K   G   E   E   K   Q   V   D   I   S   K   I   I   T   V \u001b[31m L\u001b[0m  R   I   G   K   H   I   K   F   K   Y   D   L   G   G   G   K   Y   G   R   G   C   V   S   E   K   D   A   P   K   E   L   L   Q   M   L   E   K   Q   K\n",
      "Mutant 38             :  M   A   T   V   K   F   K   Y   K   G   E   E   K   Q   V   D   I   S   K   I   I   T   V \u001b[31m S\u001b[0m  R   I   G   K   H   I   K   F   K   Y   D   L   G   G   G   K   Y   G   R   G   C   V   S   E   K   D   A   P   K   E   L   L   Q   M   L   E   K   Q   K\n",
      "Substitution Position :  1   2   3   4   5   6   7   8   9  10  11  12  13  14  15  16  17  18  19  20  21  22  23  24  25 \u001b[31m26\u001b[0m 27  28  29  30  31  32  33  34  35  36  37  38  39  40  41  42  43  44  45  46  47  48  49  50  51  52  53  54  55  56  57  58  59  60  61  62  63\n",
      "Original Sequence     :  M   A   T   V   K   F   K   Y   K   G   E   E   K   Q   V   D   I   S   K   I   I   T   V   T   R \u001b[32m I\u001b[0m  G   K   H   I   K   F   K   Y   D   L   G   G   G   K   Y   G   R   G   C   V   S   E   K   D   A   P   K   E   L   L   Q   M   L   E   K   Q   K\n",
      "Mutant 39             :  M   A   T   V   K   F   K   Y   K   G   E   E   K   Q   V   D   I   S   K   I   I   T   V   T   R \u001b[31m L\u001b[0m  G   K   H   I   K   F   K   Y   D   L   G   G   G   K   Y   G   R   G   C   V   S   E   K   D   A   P   K   E   L   L   Q   M   L   E   K   Q   K\n",
      "Mutant 40             :  M   A   T   V   K   F   K   Y   K   G   E   E   K   Q   V   D   I   S   K   I   I   T   V   T   R \u001b[31m F\u001b[0m  G   K   H   I   K   F   K   Y   D   L   G   G   G   K   Y   G   R   G   C   V   S   E   K   D   A   P   K   E   L   L   Q   M   L   E   K   Q   K\n",
      "Mutant 41             :  M   A   T   V   K   F   K   Y   K   G   E   E   K   Q   V   D   I   S   K   I   I   T   V   T   R \u001b[31m Y\u001b[0m  G   K   H   I   K   F   K   Y   D   L   G   G   G   K   Y   G   R   G   C   V   S   E   K   D   A   P   K   E   L   L   Q   M   L   E   K   Q   K\n",
      "Substitution Position :  1   2   3   4   5   6   7   8   9  10  11  12  13  14  15  16  17  18  19  20  21  22  23  24  25  26  27  28 \u001b[31m29\u001b[0m 30  31  32  33  34  35  36  37  38  39  40  41  42  43  44  45  46  47  48  49  50  51  52  53  54  55  56  57  58  59  60  61  62  63\n",
      "Original Sequence     :  M   A   T   V   K   F   K   Y   K   G   E   E   K   Q   V   D   I   S   K   I   I   T   V   T   R   I   G   K \u001b[32m H\u001b[0m  I   K   F   K   Y   D   L   G   G   G   K   Y   G   R   G   C   V   S   E   K   D   A   P   K   E   L   L   Q   M   L   E   K   Q   K\n",
      "Mutant 42             :  M   A   T   V   K   F   K   Y   K   G   E   E   K   Q   V   D   I   S   K   I   I   T   V   T   R   I   G   K \u001b[31m A\u001b[0m  I   K   F   K   Y   D   L   G   G   G   K   Y   G   R   G   C   V   S   E   K   D   A   P   K   E   L   L   Q   M   L   E   K   Q   K\n",
      "Mutant 43             :  M   A   T   V   K   F   K   Y   K   G   E   E   K   Q   V   D   I   S   K   I   I   T   V   T   R   I   G   K \u001b[31m R\u001b[0m  I   K   F   K   Y   D   L   G   G   G   K   Y   G   R   G   C   V   S   E   K   D   A   P   K   E   L   L   Q   M   L   E   K   Q   K\n",
      "Mutant 44             :  M   A   T   V   K   F   K   Y   K   G   E   E   K   Q   V   D   I   S   K   I   I   T   V   T   R   I   G   K \u001b[31m N\u001b[0m  I   K   F   K   Y   D   L   G   G   G   K   Y   G   R   G   C   V   S   E   K   D   A   P   K   E   L   L   Q   M   L   E   K   Q   K\n",
      "Mutant 45             :  M   A   T   V   K   F   K   Y   K   G   E   E   K   Q   V   D   I   S   K   I   I   T   V   T   R   I   G   K \u001b[31m D\u001b[0m  I   K   F   K   Y   D   L   G   G   G   K   Y   G   R   G   C   V   S   E   K   D   A   P   K   E   L   L   Q   M   L   E   K   Q   K\n",
      "Mutant 46             :  M   A   T   V   K   F   K   Y   K   G   E   E   K   Q   V   D   I   S   K   I   I   T   V   T   R   I   G   K \u001b[31m E\u001b[0m  I   K   F   K   Y   D   L   G   G   G   K   Y   G   R   G   C   V   S   E   K   D   A   P   K   E   L   L   Q   M   L   E   K   Q   K\n",
      "Mutant 47             :  M   A   T   V   K   F   K   Y   K   G   E   E   K   Q   V   D   I   S   K   I   I   T   V   T   R   I   G   K \u001b[31m Q\u001b[0m  I   K   F   K   Y   D   L   G   G   G   K   Y   G   R   G   C   V   S   E   K   D   A   P   K   E   L   L   Q   M   L   E   K   Q   K\n",
      "Mutant 48             :  M   A   T   V   K   F   K   Y   K   G   E   E   K   Q   V   D   I   S   K   I   I   T   V   T   R   I   G   K \u001b[31m G\u001b[0m  I   K   F   K   Y   D   L   G   G   G   K   Y   G   R   G   C   V   S   E   K   D   A   P   K   E   L   L   Q   M   L   E   K   Q   K\n",
      "Mutant 49             :  M   A   T   V   K   F   K   Y   K   G   E   E   K   Q   V   D   I   S   K   I   I   T   V   T   R   I   G   K \u001b[31m I\u001b[0m  I   K   F   K   Y   D   L   G   G   G   K   Y   G   R   G   C   V   S   E   K   D   A   P   K   E   L   L   Q   M   L   E   K   Q   K\n",
      "Mutant 50             :  M   A   T   V   K   F   K   Y   K   G   E   E   K   Q   V   D   I   S   K   I   I   T   V   T   R   I   G   K \u001b[31m L\u001b[0m  I   K   F   K   Y   D   L   G   G   G   K   Y   G   R   G   C   V   S   E   K   D   A   P   K   E   L   L   Q   M   L   E   K   Q   K\n",
      "Mutant 51             :  M   A   T   V   K   F   K   Y   K   G   E   E   K   Q   V   D   I   S   K   I   I   T   V   T   R   I   G   K \u001b[31m K\u001b[0m  I   K   F   K   Y   D   L   G   G   G   K   Y   G   R   G   C   V   S   E   K   D   A   P   K   E   L   L   Q   M   L   E   K   Q   K\n",
      "Mutant 52             :  M   A   T   V   K   F   K   Y   K   G   E   E   K   Q   V   D   I   S   K   I   I   T   V   T   R   I   G   K \u001b[31m F\u001b[0m  I   K   F   K   Y   D   L   G   G   G   K   Y   G   R   G   C   V   S   E   K   D   A   P   K   E   L   L   Q   M   L   E   K   Q   K\n",
      "Mutant 53             :  M   A   T   V   K   F   K   Y   K   G   E   E   K   Q   V   D   I   S   K   I   I   T   V   T   R   I   G   K \u001b[31m P\u001b[0m  I   K   F   K   Y   D   L   G   G   G   K   Y   G   R   G   C   V   S   E   K   D   A   P   K   E   L   L   Q   M   L   E   K   Q   K\n",
      "Mutant 54             :  M   A   T   V   K   F   K   Y   K   G   E   E   K   Q   V   D   I   S   K   I   I   T   V   T   R   I   G   K \u001b[31m S\u001b[0m  I   K   F   K   Y   D   L   G   G   G   K   Y   G   R   G   C   V   S   E   K   D   A   P   K   E   L   L   Q   M   L   E   K   Q   K\n",
      "Mutant 55             :  M   A   T   V   K   F   K   Y   K   G   E   E   K   Q   V   D   I   S   K   I   I   T   V   T   R   I   G   K \u001b[31m T\u001b[0m  I   K   F   K   Y   D   L   G   G   G   K   Y   G   R   G   C   V   S   E   K   D   A   P   K   E   L   L   Q   M   L   E   K   Q   K\n",
      "Mutant 56             :  M   A   T   V   K   F   K   Y   K   G   E   E   K   Q   V   D   I   S   K   I   I   T   V   T   R   I   G   K \u001b[31m W\u001b[0m  I   K   F   K   Y   D   L   G   G   G   K   Y   G   R   G   C   V   S   E   K   D   A   P   K   E   L   L   Q   M   L   E   K   Q   K\n",
      "Mutant 57             :  M   A   T   V   K   F   K   Y   K   G   E   E   K   Q   V   D   I   S   K   I   I   T   V   T   R   I   G   K \u001b[31m Y\u001b[0m  I   K   F   K   Y   D   L   G   G   G   K   Y   G   R   G   C   V   S   E   K   D   A   P   K   E   L   L   Q   M   L   E   K   Q   K\n",
      "Mutant 58             :  M   A   T   V   K   F   K   Y   K   G   E   E   K   Q   V   D   I   S   K   I   I   T   V   T   R   I   G   K \u001b[31m V\u001b[0m  I   K   F   K   Y   D   L   G   G   G   K   Y   G   R   G   C   V   S   E   K   D   A   P   K   E   L   L   Q   M   L   E   K   Q   K\n",
      "Substitution Position :  1   2   3   4   5   6   7   8   9  10  11  12  13  14  15  16  17  18  19  20  21  22  23  24  25  26  27  28  29  30 \u001b[31m31\u001b[0m 32  33  34  35  36  37  38  39  40  41  42  43  44  45  46  47  48  49  50  51  52  53  54  55  56  57  58  59  60  61  62  63\n",
      "Original Sequence     :  M   A   T   V   K   F   K   Y   K   G   E   E   K   Q   V   D   I   S   K   I   I   T   V   T   R   I   G   K   H   I \u001b[32m K\u001b[0m  F   K   Y   D   L   G   G   G   K   Y   G   R   G   C   V   S   E   K   D   A   P   K   E   L   L   Q   M   L   E   K   Q   K\n",
      "Mutant 59             :  M   A   T   V   K   F   K   Y   K   G   E   E   K   Q   V   D   I   S   K   I   I   T   V   T   R   I   G   K   H   I \u001b[31m F\u001b[0m  F   K   Y   D   L   G   G   G   K   Y   G   R   G   C   V   S   E   K   D   A   P   K   E   L   L   Q   M   L   E   K   Q   K\n",
      "Substitution Position :  1   2   3   4   5   6   7   8   9  10  11  12  13  14  15  16  17  18  19  20  21  22  23  24  25  26  27  28  29  30  31  32 \u001b[31m33\u001b[0m 34  35  36  37  38  39  40  41  42  43  44  45  46  47  48  49  50  51  52  53  54  55  56  57  58  59  60  61  62  63\n",
      "Original Sequence     :  M   A   T   V   K   F   K   Y   K   G   E   E   K   Q   V   D   I   S   K   I   I   T   V   T   R   I   G   K   H   I   K   F \u001b[32m K\u001b[0m  Y   D   L   G   G   G   K   Y   G   R   G   C   V   S   E   K   D   A   P   K   E   L   L   Q   M   L   E   K   Q   K\n",
      "Mutant 60             :  M   A   T   V   K   F   K   Y   K   G   E   E   K   Q   V   D   I   S   K   I   I   T   V   T   R   I   G   K   H   I   K   F \u001b[31m A\u001b[0m  Y   D   L   G   G   G   K   Y   G   R   G   C   V   S   E   K   D   A   P   K   E   L   L   Q   M   L   E   K   Q   K\n",
      "Mutant 61             :  M   A   T   V   K   F   K   Y   K   G   E   E   K   Q   V   D   I   S   K   I   I   T   V   T   R   I   G   K   H   I   K   F \u001b[31m R\u001b[0m  Y   D   L   G   G   G   K   Y   G   R   G   C   V   S   E   K   D   A   P   K   E   L   L   Q   M   L   E   K   Q   K\n",
      "Mutant 62             :  M   A   T   V   K   F   K   Y   K   G   E   E   K   Q   V   D   I   S   K   I   I   T   V   T   R   I   G   K   H   I   K   F \u001b[31m N\u001b[0m  Y   D   L   G   G   G   K   Y   G   R   G   C   V   S   E   K   D   A   P   K   E   L   L   Q   M   L   E   K   Q   K\n",
      "Mutant 63             :  M   A   T   V   K   F   K   Y   K   G   E   E   K   Q   V   D   I   S   K   I   I   T   V   T   R   I   G   K   H   I   K   F \u001b[31m D\u001b[0m  Y   D   L   G   G   G   K   Y   G   R   G   C   V   S   E   K   D   A   P   K   E   L   L   Q   M   L   E   K   Q   K\n",
      "Mutant 64             :  M   A   T   V   K   F   K   Y   K   G   E   E   K   Q   V   D   I   S   K   I   I   T   V   T   R   I   G   K   H   I   K   F \u001b[31m E\u001b[0m  Y   D   L   G   G   G   K   Y   G   R   G   C   V   S   E   K   D   A   P   K   E   L   L   Q   M   L   E   K   Q   K\n",
      "Mutant 65             :  M   A   T   V   K   F   K   Y   K   G   E   E   K   Q   V   D   I   S   K   I   I   T   V   T   R   I   G   K   H   I   K   F \u001b[31m Q\u001b[0m  Y   D   L   G   G   G   K   Y   G   R   G   C   V   S   E   K   D   A   P   K   E   L   L   Q   M   L   E   K   Q   K\n",
      "Mutant 66             :  M   A   T   V   K   F   K   Y   K   G   E   E   K   Q   V   D   I   S   K   I   I   T   V   T   R   I   G   K   H   I   K   F \u001b[31m G\u001b[0m  Y   D   L   G   G   G   K   Y   G   R   G   C   V   S   E   K   D   A   P   K   E   L   L   Q   M   L   E   K   Q   K\n",
      "Mutant 67             :  M   A   T   V   K   F   K   Y   K   G   E   E   K   Q   V   D   I   S   K   I   I   T   V   T   R   I   G   K   H   I   K   F \u001b[31m H\u001b[0m  Y   D   L   G   G   G   K   Y   G   R   G   C   V   S   E   K   D   A   P   K   E   L   L   Q   M   L   E   K   Q   K\n",
      "Mutant 68             :  M   A   T   V   K   F   K   Y   K   G   E   E   K   Q   V   D   I   S   K   I   I   T   V   T   R   I   G   K   H   I   K   F \u001b[31m I\u001b[0m  Y   D   L   G   G   G   K   Y   G   R   G   C   V   S   E   K   D   A   P   K   E   L   L   Q   M   L   E   K   Q   K\n",
      "Mutant 69             :  M   A   T   V   K   F   K   Y   K   G   E   E   K   Q   V   D   I   S   K   I   I   T   V   T   R   I   G   K   H   I   K   F \u001b[31m L\u001b[0m  Y   D   L   G   G   G   K   Y   G   R   G   C   V   S   E   K   D   A   P   K   E   L   L   Q   M   L   E   K   Q   K\n",
      "Mutant 70             :  M   A   T   V   K   F   K   Y   K   G   E   E   K   Q   V   D   I   S   K   I   I   T   V   T   R   I   G   K   H   I   K   F \u001b[31m F\u001b[0m  Y   D   L   G   G   G   K   Y   G   R   G   C   V   S   E   K   D   A   P   K   E   L   L   Q   M   L   E   K   Q   K\n",
      "Mutant 71             :  M   A   T   V   K   F   K   Y   K   G   E   E   K   Q   V   D   I   S   K   I   I   T   V   T   R   I   G   K   H   I   K   F \u001b[31m P\u001b[0m  Y   D   L   G   G   G   K   Y   G   R   G   C   V   S   E   K   D   A   P   K   E   L   L   Q   M   L   E   K   Q   K\n",
      "Mutant 72             :  M   A   T   V   K   F   K   Y   K   G   E   E   K   Q   V   D   I   S   K   I   I   T   V   T   R   I   G   K   H   I   K   F \u001b[31m S\u001b[0m  Y   D   L   G   G   G   K   Y   G   R   G   C   V   S   E   K   D   A   P   K   E   L   L   Q   M   L   E   K   Q   K\n",
      "Mutant 73             :  M   A   T   V   K   F   K   Y   K   G   E   E   K   Q   V   D   I   S   K   I   I   T   V   T   R   I   G   K   H   I   K   F \u001b[31m T\u001b[0m  Y   D   L   G   G   G   K   Y   G   R   G   C   V   S   E   K   D   A   P   K   E   L   L   Q   M   L   E   K   Q   K\n",
      "Mutant 74             :  M   A   T   V   K   F   K   Y   K   G   E   E   K   Q   V   D   I   S   K   I   I   T   V   T   R   I   G   K   H   I   K   F \u001b[31m W\u001b[0m  Y   D   L   G   G   G   K   Y   G   R   G   C   V   S   E   K   D   A   P   K   E   L   L   Q   M   L   E   K   Q   K\n",
      "Mutant 75             :  M   A   T   V   K   F   K   Y   K   G   E   E   K   Q   V   D   I   S   K   I   I   T   V   T   R   I   G   K   H   I   K   F \u001b[31m Y\u001b[0m  Y   D   L   G   G   G   K   Y   G   R   G   C   V   S   E   K   D   A   P   K   E   L   L   Q   M   L   E   K   Q   K\n",
      "Mutant 76             :  M   A   T   V   K   F   K   Y   K   G   E   E   K   Q   V   D   I   S   K   I   I   T   V   T   R   I   G   K   H   I   K   F \u001b[31m V\u001b[0m  Y   D   L   G   G   G   K   Y   G   R   G   C   V   S   E   K   D   A   P   K   E   L   L   Q   M   L   E   K   Q   K\n",
      "Substitution Position :  1   2   3   4   5   6   7   8   9  10  11  12  13  14  15  16  17  18  19  20  21  22  23  24  25  26  27  28  29  30  31  32  33  34  35  36  37  38  39  40 \u001b[31m41\u001b[0m 42  43  44  45  46  47  48  49  50  51  52  53  54  55  56  57  58  59  60  61  62  63\n",
      "Original Sequence     :  M   A   T   V   K   F   K   Y   K   G   E   E   K   Q   V   D   I   S   K   I   I   T   V   T   R   I   G   K   H   I   K   F   K   Y   D   L   G   G   G   K \u001b[32m Y\u001b[0m  G   R   G   C   V   S   E   K   D   A   P   K   E   L   L   Q   M   L   E   K   Q   K\n",
      "Mutant 77             :  M   A   T   V   K   F   K   Y   K   G   E   E   K   Q   V   D   I   S   K   I   I   T   V   T   R   I   G   K   H   I   K   F   K   Y   D   L   G   G   G   K \u001b[31m V\u001b[0m  G   R   G   C   V   S   E   K   D   A   P   K   E   L   L   Q   M   L   E   K   Q   K\n",
      "Mutant 78             :  M   A   T   V   K   F   K   Y   K   G   E   E   K   Q   V   D   I   S   K   I   I   T   V   T   R   I   G   K   H   I   K   F   K   Y   D   L   G   G   G   K \u001b[31m F\u001b[0m  G   R   G   C   V   S   E   K   D   A   P   K   E   L   L   Q   M   L   E   K   Q   K\n",
      "Mutant 79             :  M   A   T   V   K   F   K   Y   K   G   E   E   K   Q   V   D   I   S   K   I   I   T   V   T   R   I   G   K   H   I   K   F   K   Y   D   L   G   G   G   K \u001b[31m A\u001b[0m  G   R   G   C   V   S   E   K   D   A   P   K   E   L   L   Q   M   L   E   K   Q   K\n",
      "Mutant 80             :  M   A   T   V   K   F   K   Y   K   G   E   E   K   Q   V   D   I   S   K   I   I   T   V   T   R   I   G   K   H   I   K   F   K   Y   D   L   G   G   G   K \u001b[31m I\u001b[0m  G   R   G   C   V   S   E   K   D   A   P   K   E   L   L   Q   M   L   E   K   Q   K\n",
      "Mutant 81             :  M   A   T   V   K   F   K   Y   K   G   E   E   K   Q   V   D   I   S   K   I   I   T   V   T   R   I   G   K   H   I   K   F   K   Y   D   L   G   G   G   K \u001b[31m L\u001b[0m  G   R   G   C   V   S   E   K   D   A   P   K   E   L   L   Q   M   L   E   K   Q   K\n",
      "Mutant 82             :  M   A   T   V   K   F   K   Y   K   G   E   E   K   Q   V   D   I   S   K   I   I   T   V   T   R   I   G   K   H   I   K   F   K   Y   D   L   G   G   G   K \u001b[31m K\u001b[0m  G   R   G   C   V   S   E   K   D   A   P   K   E   L   L   Q   M   L   E   K   Q   K\n",
      "Mutant 83             :  M   A   T   V   K   F   K   Y   K   G   E   E   K   Q   V   D   I   S   K   I   I   T   V   T   R   I   G   K   H   I   K   F   K   Y   D   L   G   G   G   K \u001b[31m R\u001b[0m  G   R   G   C   V   S   E   K   D   A   P   K   E   L   L   Q   M   L   E   K   Q   K\n",
      "Substitution Position :  1   2   3   4   5   6   7   8   9  10  11  12  13  14  15  16  17  18  19  20  21  22  23  24  25  26  27  28  29  30  31  32  33  34  35  36  37  38  39  40  41  42 \u001b[31m43\u001b[0m 44  45  46  47  48  49  50  51  52  53  54  55  56  57  58  59  60  61  62  63\n",
      "Original Sequence     :  M   A   T   V   K   F   K   Y   K   G   E   E   K   Q   V   D   I   S   K   I   I   T   V   T   R   I   G   K   H   I   K   F   K   Y   D   L   G   G   G   K   Y   G \u001b[32m R\u001b[0m  G   C   V   S   E   K   D   A   P   K   E   L   L   Q   M   L   E   K   Q   K\n",
      "Substitution Position :  1   2   3   4   5   6   7   8   9  10  11  12  13  14  15  16  17  18  19  20  21  22  23  24  25  26  27  28  29  30  31  32  33  34  35  36  37  38  39  40  41  42  43  44 \u001b[31m45\u001b[0m 46  47  48  49  50  51  52  53  54  55  56  57  58  59  60  61  62  63\n",
      "Original Sequence     :  M   A   T   V   K   F   K   Y   K   G   E   E   K   Q   V   D   I   S   K   I   I   T   V   T   R   I   G   K   H   I   K   F   K   Y   D   L   G   G   G   K   Y   G   R   G \u001b[32m C\u001b[0m  V   S   E   K   D   A   P   K   E   L   L   Q   M   L   E   K   Q   K\n",
      "Mutant 84             :  M   A   T   V   K   F   K   Y   K   G   E   E   K   Q   V   D   I   S   K   I   I   T   V   T   R   I   G   K   H   I   K   F   K   Y   D   L   G   G   G   K   Y   G   R   G \u001b[31m R\u001b[0m  V   S   E   K   D   A   P   K   E   L   L   Q   M   L   E   K   Q   K\n",
      "Mutant 85             :  M   A   T   V   K   F   K   Y   K   G   E   E   K   Q   V   D   I   S   K   I   I   T   V   T   R   I   G   K   H   I   K   F   K   Y   D   L   G   G   G   K   Y   G   R   G \u001b[31m K\u001b[0m  V   S   E   K   D   A   P   K   E   L   L   Q   M   L   E   K   Q   K\n"
     ]
    }
   ],
   "source": [
    "print_mutant_sequences(substitutions=substitutions,original_sequence=sdy14_seq,mutants_list=sdy14_mutants)"
   ]
  },
  {
   "cell_type": "code",
   "execution_count": 142,
   "metadata": {},
   "outputs": [
    {
     "name": "stdout",
     "output_type": "stream",
     "text": [
      "Substitution Position :  1   2   3   4   5   6   7   8   9  10  11  12  13  14  15  16  17  18  19  20 \u001b[31m21\u001b[0m 22  23  24  25  26  27  28  29  30  31  32  33  34  35  36  37  38  39  40  41  42  43  44  45  46  47  48  49  50  51  52  53  54  55  56  57  58  59  60  61  62  63\n",
      "Original Sequence     :  M   A   T   V   K   F   K   Y   K   G   E   E   K   Q   V   D   I   S   K   I \u001b[32m T\u001b[0m  H   V   L   R   T   G   K   I   I   F   F   S   Y   D   L   G   G   G   K   K   G   R   G   K   V   S   E   K   D   A   P   K   E   L   L   Q   M   L   E   L   Q   K\n",
      "Mutant 1              :  M   A   T   V   K   F   K   Y   K   G   E   E   K   Q   V   D   I   S   K   I \u001b[31m A\u001b[0m  H   V   L   R   T   G   K   I   I   F   F   S   Y   D   L   G   G   G   K   K   G   R   G   K   V   S   E   K   D   A   P   K   E   L   L   Q   M   L   E   L   Q   K\n",
      "Mutant 2              :  M   A   T   V   K   F   K   Y   K   G   E   E   K   Q   V   D   I   S   K   I \u001b[31m R\u001b[0m  H   V   L   R   T   G   K   I   I   F   F   S   Y   D   L   G   G   G   K   K   G   R   G   K   V   S   E   K   D   A   P   K   E   L   L   Q   M   L   E   L   Q   K\n",
      "Mutant 3              :  M   A   T   V   K   F   K   Y   K   G   E   E   K   Q   V   D   I   S   K   I \u001b[31m N\u001b[0m  H   V   L   R   T   G   K   I   I   F   F   S   Y   D   L   G   G   G   K   K   G   R   G   K   V   S   E   K   D   A   P   K   E   L   L   Q   M   L   E   L   Q   K\n",
      "Mutant 4              :  M   A   T   V   K   F   K   Y   K   G   E   E   K   Q   V   D   I   S   K   I \u001b[31m D\u001b[0m  H   V   L   R   T   G   K   I   I   F   F   S   Y   D   L   G   G   G   K   K   G   R   G   K   V   S   E   K   D   A   P   K   E   L   L   Q   M   L   E   L   Q   K\n",
      "Mutant 5              :  M   A   T   V   K   F   K   Y   K   G   E   E   K   Q   V   D   I   S   K   I \u001b[31m E\u001b[0m  H   V   L   R   T   G   K   I   I   F   F   S   Y   D   L   G   G   G   K   K   G   R   G   K   V   S   E   K   D   A   P   K   E   L   L   Q   M   L   E   L   Q   K\n",
      "Mutant 6              :  M   A   T   V   K   F   K   Y   K   G   E   E   K   Q   V   D   I   S   K   I \u001b[31m Q\u001b[0m  H   V   L   R   T   G   K   I   I   F   F   S   Y   D   L   G   G   G   K   K   G   R   G   K   V   S   E   K   D   A   P   K   E   L   L   Q   M   L   E   L   Q   K\n",
      "Mutant 7              :  M   A   T   V   K   F   K   Y   K   G   E   E   K   Q   V   D   I   S   K   I \u001b[31m G\u001b[0m  H   V   L   R   T   G   K   I   I   F   F   S   Y   D   L   G   G   G   K   K   G   R   G   K   V   S   E   K   D   A   P   K   E   L   L   Q   M   L   E   L   Q   K\n",
      "Mutant 8              :  M   A   T   V   K   F   K   Y   K   G   E   E   K   Q   V   D   I   S   K   I \u001b[31m H\u001b[0m  H   V   L   R   T   G   K   I   I   F   F   S   Y   D   L   G   G   G   K   K   G   R   G   K   V   S   E   K   D   A   P   K   E   L   L   Q   M   L   E   L   Q   K\n",
      "Mutant 9              :  M   A   T   V   K   F   K   Y   K   G   E   E   K   Q   V   D   I   S   K   I \u001b[31m I\u001b[0m  H   V   L   R   T   G   K   I   I   F   F   S   Y   D   L   G   G   G   K   K   G   R   G   K   V   S   E   K   D   A   P   K   E   L   L   Q   M   L   E   L   Q   K\n",
      "Mutant 10             :  M   A   T   V   K   F   K   Y   K   G   E   E   K   Q   V   D   I   S   K   I \u001b[31m L\u001b[0m  H   V   L   R   T   G   K   I   I   F   F   S   Y   D   L   G   G   G   K   K   G   R   G   K   V   S   E   K   D   A   P   K   E   L   L   Q   M   L   E   L   Q   K\n",
      "Mutant 11             :  M   A   T   V   K   F   K   Y   K   G   E   E   K   Q   V   D   I   S   K   I \u001b[31m K\u001b[0m  H   V   L   R   T   G   K   I   I   F   F   S   Y   D   L   G   G   G   K   K   G   R   G   K   V   S   E   K   D   A   P   K   E   L   L   Q   M   L   E   L   Q   K\n",
      "Mutant 12             :  M   A   T   V   K   F   K   Y   K   G   E   E   K   Q   V   D   I   S   K   I \u001b[31m F\u001b[0m  H   V   L   R   T   G   K   I   I   F   F   S   Y   D   L   G   G   G   K   K   G   R   G   K   V   S   E   K   D   A   P   K   E   L   L   Q   M   L   E   L   Q   K\n",
      "Mutant 13             :  M   A   T   V   K   F   K   Y   K   G   E   E   K   Q   V   D   I   S   K   I \u001b[31m P\u001b[0m  H   V   L   R   T   G   K   I   I   F   F   S   Y   D   L   G   G   G   K   K   G   R   G   K   V   S   E   K   D   A   P   K   E   L   L   Q   M   L   E   L   Q   K\n",
      "Mutant 14             :  M   A   T   V   K   F   K   Y   K   G   E   E   K   Q   V   D   I   S   K   I \u001b[31m S\u001b[0m  H   V   L   R   T   G   K   I   I   F   F   S   Y   D   L   G   G   G   K   K   G   R   G   K   V   S   E   K   D   A   P   K   E   L   L   Q   M   L   E   L   Q   K\n",
      "Mutant 15             :  M   A   T   V   K   F   K   Y   K   G   E   E   K   Q   V   D   I   S   K   I \u001b[31m W\u001b[0m  H   V   L   R   T   G   K   I   I   F   F   S   Y   D   L   G   G   G   K   K   G   R   G   K   V   S   E   K   D   A   P   K   E   L   L   Q   M   L   E   L   Q   K\n",
      "Mutant 16             :  M   A   T   V   K   F   K   Y   K   G   E   E   K   Q   V   D   I   S   K   I \u001b[31m Y\u001b[0m  H   V   L   R   T   G   K   I   I   F   F   S   Y   D   L   G   G   G   K   K   G   R   G   K   V   S   E   K   D   A   P   K   E   L   L   Q   M   L   E   L   Q   K\n",
      "Mutant 17             :  M   A   T   V   K   F   K   Y   K   G   E   E   K   Q   V   D   I   S   K   I \u001b[31m V\u001b[0m  H   V   L   R   T   G   K   I   I   F   F   S   Y   D   L   G   G   G   K   K   G   R   G   K   V   S   E   K   D   A   P   K   E   L   L   Q   M   L   E   L   Q   K\n",
      "Substitution Position :  1   2   3   4   5   6   7   8   9  10  11  12  13  14  15  16  17  18  19  20  21 \u001b[31m22\u001b[0m 23  24  25  26  27  28  29  30  31  32  33  34  35  36  37  38  39  40  41  42  43  44  45  46  47  48  49  50  51  52  53  54  55  56  57  58  59  60  61  62  63\n",
      "Original Sequence     :  M   A   T   V   K   F   K   Y   K   G   E   E   K   Q   V   D   I   S   K   I   T \u001b[32m H\u001b[0m  V   L   R   T   G   K   I   I   F   F   S   Y   D   L   G   G   G   K   K   G   R   G   K   V   S   E   K   D   A   P   K   E   L   L   Q   M   L   E   L   Q   K\n",
      "Mutant 18             :  M   A   T   V   K   F   K   Y   K   G   E   E   K   Q   V   D   I   S   K   I   T \u001b[31m A\u001b[0m  V   L   R   T   G   K   I   I   F   F   S   Y   D   L   G   G   G   K   K   G   R   G   K   V   S   E   K   D   A   P   K   E   L   L   Q   M   L   E   L   Q   K\n",
      "Mutant 19             :  M   A   T   V   K   F   K   Y   K   G   E   E   K   Q   V   D   I   S   K   I   T \u001b[31m R\u001b[0m  V   L   R   T   G   K   I   I   F   F   S   Y   D   L   G   G   G   K   K   G   R   G   K   V   S   E   K   D   A   P   K   E   L   L   Q   M   L   E   L   Q   K\n",
      "Mutant 20             :  M   A   T   V   K   F   K   Y   K   G   E   E   K   Q   V   D   I   S   K   I   T \u001b[31m N\u001b[0m  V   L   R   T   G   K   I   I   F   F   S   Y   D   L   G   G   G   K   K   G   R   G   K   V   S   E   K   D   A   P   K   E   L   L   Q   M   L   E   L   Q   K\n",
      "Mutant 21             :  M   A   T   V   K   F   K   Y   K   G   E   E   K   Q   V   D   I   S   K   I   T \u001b[31m D\u001b[0m  V   L   R   T   G   K   I   I   F   F   S   Y   D   L   G   G   G   K   K   G   R   G   K   V   S   E   K   D   A   P   K   E   L   L   Q   M   L   E   L   Q   K\n",
      "Mutant 22             :  M   A   T   V   K   F   K   Y   K   G   E   E   K   Q   V   D   I   S   K   I   T \u001b[31m E\u001b[0m  V   L   R   T   G   K   I   I   F   F   S   Y   D   L   G   G   G   K   K   G   R   G   K   V   S   E   K   D   A   P   K   E   L   L   Q   M   L   E   L   Q   K\n",
      "Mutant 23             :  M   A   T   V   K   F   K   Y   K   G   E   E   K   Q   V   D   I   S   K   I   T \u001b[31m Q\u001b[0m  V   L   R   T   G   K   I   I   F   F   S   Y   D   L   G   G   G   K   K   G   R   G   K   V   S   E   K   D   A   P   K   E   L   L   Q   M   L   E   L   Q   K\n",
      "Mutant 24             :  M   A   T   V   K   F   K   Y   K   G   E   E   K   Q   V   D   I   S   K   I   T \u001b[31m G\u001b[0m  V   L   R   T   G   K   I   I   F   F   S   Y   D   L   G   G   G   K   K   G   R   G   K   V   S   E   K   D   A   P   K   E   L   L   Q   M   L   E   L   Q   K\n",
      "Mutant 25             :  M   A   T   V   K   F   K   Y   K   G   E   E   K   Q   V   D   I   S   K   I   T \u001b[31m I\u001b[0m  V   L   R   T   G   K   I   I   F   F   S   Y   D   L   G   G   G   K   K   G   R   G   K   V   S   E   K   D   A   P   K   E   L   L   Q   M   L   E   L   Q   K\n",
      "Mutant 26             :  M   A   T   V   K   F   K   Y   K   G   E   E   K   Q   V   D   I   S   K   I   T \u001b[31m L\u001b[0m  V   L   R   T   G   K   I   I   F   F   S   Y   D   L   G   G   G   K   K   G   R   G   K   V   S   E   K   D   A   P   K   E   L   L   Q   M   L   E   L   Q   K\n",
      "Mutant 27             :  M   A   T   V   K   F   K   Y   K   G   E   E   K   Q   V   D   I   S   K   I   T \u001b[31m K\u001b[0m  V   L   R   T   G   K   I   I   F   F   S   Y   D   L   G   G   G   K   K   G   R   G   K   V   S   E   K   D   A   P   K   E   L   L   Q   M   L   E   L   Q   K\n",
      "Mutant 28             :  M   A   T   V   K   F   K   Y   K   G   E   E   K   Q   V   D   I   S   K   I   T \u001b[31m F\u001b[0m  V   L   R   T   G   K   I   I   F   F   S   Y   D   L   G   G   G   K   K   G   R   G   K   V   S   E   K   D   A   P   K   E   L   L   Q   M   L   E   L   Q   K\n",
      "Mutant 29             :  M   A   T   V   K   F   K   Y   K   G   E   E   K   Q   V   D   I   S   K   I   T \u001b[31m P\u001b[0m  V   L   R   T   G   K   I   I   F   F   S   Y   D   L   G   G   G   K   K   G   R   G   K   V   S   E   K   D   A   P   K   E   L   L   Q   M   L   E   L   Q   K\n",
      "Mutant 30             :  M   A   T   V   K   F   K   Y   K   G   E   E   K   Q   V   D   I   S   K   I   T \u001b[31m S\u001b[0m  V   L   R   T   G   K   I   I   F   F   S   Y   D   L   G   G   G   K   K   G   R   G   K   V   S   E   K   D   A   P   K   E   L   L   Q   M   L   E   L   Q   K\n",
      "Mutant 31             :  M   A   T   V   K   F   K   Y   K   G   E   E   K   Q   V   D   I   S   K   I   T \u001b[31m T\u001b[0m  V   L   R   T   G   K   I   I   F   F   S   Y   D   L   G   G   G   K   K   G   R   G   K   V   S   E   K   D   A   P   K   E   L   L   Q   M   L   E   L   Q   K\n",
      "Mutant 32             :  M   A   T   V   K   F   K   Y   K   G   E   E   K   Q   V   D   I   S   K   I   T \u001b[31m W\u001b[0m  V   L   R   T   G   K   I   I   F   F   S   Y   D   L   G   G   G   K   K   G   R   G   K   V   S   E   K   D   A   P   K   E   L   L   Q   M   L   E   L   Q   K\n",
      "Mutant 33             :  M   A   T   V   K   F   K   Y   K   G   E   E   K   Q   V   D   I   S   K   I   T \u001b[31m Y\u001b[0m  V   L   R   T   G   K   I   I   F   F   S   Y   D   L   G   G   G   K   K   G   R   G   K   V   S   E   K   D   A   P   K   E   L   L   Q   M   L   E   L   Q   K\n",
      "Mutant 34             :  M   A   T   V   K   F   K   Y   K   G   E   E   K   Q   V   D   I   S   K   I   T \u001b[31m V\u001b[0m  V   L   R   T   G   K   I   I   F   F   S   Y   D   L   G   G   G   K   K   G   R   G   K   V   S   E   K   D   A   P   K   E   L   L   Q   M   L   E   L   Q   K\n",
      "Substitution Position :  1   2   3   4   5   6   7   8   9  10  11  12  13  14  15  16  17  18  19  20  21  22  23 \u001b[31m24\u001b[0m 25  26  27  28  29  30  31  32  33  34  35  36  37  38  39  40  41  42  43  44  45  46  47  48  49  50  51  52  53  54  55  56  57  58  59  60  61  62  63\n",
      "Original Sequence     :  M   A   T   V   K   F   K   Y   K   G   E   E   K   Q   V   D   I   S   K   I   T   H   V \u001b[32m L\u001b[0m  R   T   G   K   I   I   F   F   S   Y   D   L   G   G   G   K   K   G   R   G   K   V   S   E   K   D   A   P   K   E   L   L   Q   M   L   E   L   Q   K\n",
      "Mutant 35             :  M   A   T   V   K   F   K   Y   K   G   E   E   K   Q   V   D   I   S   K   I   T   H   V \u001b[31m I\u001b[0m  R   T   G   K   I   I   F   F   S   Y   D   L   G   G   G   K   K   G   R   G   K   V   S   E   K   D   A   P   K   E   L   L   Q   M   L   E   L   Q   K\n",
      "Mutant 36             :  M   A   T   V   K   F   K   Y   K   G   E   E   K   Q   V   D   I   S   K   I   T   H   V \u001b[31m F\u001b[0m  R   T   G   K   I   I   F   F   S   Y   D   L   G   G   G   K   K   G   R   G   K   V   S   E   K   D   A   P   K   E   L   L   Q   M   L   E   L   Q   K\n",
      "Mutant 37             :  M   A   T   V   K   F   K   Y   K   G   E   E   K   Q   V   D   I   S   K   I   T   H   V \u001b[31m T\u001b[0m  R   T   G   K   I   I   F   F   S   Y   D   L   G   G   G   K   K   G   R   G   K   V   S   E   K   D   A   P   K   E   L   L   Q   M   L   E   L   Q   K\n",
      "Mutant 38             :  M   A   T   V   K   F   K   Y   K   G   E   E   K   Q   V   D   I   S   K   I   T   H   V \u001b[31m S\u001b[0m  R   T   G   K   I   I   F   F   S   Y   D   L   G   G   G   K   K   G   R   G   K   V   S   E   K   D   A   P   K   E   L   L   Q   M   L   E   L   Q   K\n",
      "Substitution Position :  1   2   3   4   5   6   7   8   9  10  11  12  13  14  15  16  17  18  19  20  21  22  23  24  25 \u001b[31m26\u001b[0m 27  28  29  30  31  32  33  34  35  36  37  38  39  40  41  42  43  44  45  46  47  48  49  50  51  52  53  54  55  56  57  58  59  60  61  62  63\n",
      "Original Sequence     :  M   A   T   V   K   F   K   Y   K   G   E   E   K   Q   V   D   I   S   K   I   T   H   V   L   R \u001b[32m T\u001b[0m  G   K   I   I   F   F   S   Y   D   L   G   G   G   K   K   G   R   G   K   V   S   E   K   D   A   P   K   E   L   L   Q   M   L   E   L   Q   K\n",
      "Mutant 39             :  M   A   T   V   K   F   K   Y   K   G   E   E   K   Q   V   D   I   S   K   I   T   H   V   L   R \u001b[31m I\u001b[0m  G   K   I   I   F   F   S   Y   D   L   G   G   G   K   K   G   R   G   K   V   S   E   K   D   A   P   K   E   L   L   Q   M   L   E   L   Q   K\n",
      "Mutant 40             :  M   A   T   V   K   F   K   Y   K   G   E   E   K   Q   V   D   I   S   K   I   T   H   V   L   R \u001b[31m L\u001b[0m  G   K   I   I   F   F   S   Y   D   L   G   G   G   K   K   G   R   G   K   V   S   E   K   D   A   P   K   E   L   L   Q   M   L   E   L   Q   K\n",
      "Mutant 41             :  M   A   T   V   K   F   K   Y   K   G   E   E   K   Q   V   D   I   S   K   I   T   H   V   L   R \u001b[31m F\u001b[0m  G   K   I   I   F   F   S   Y   D   L   G   G   G   K   K   G   R   G   K   V   S   E   K   D   A   P   K   E   L   L   Q   M   L   E   L   Q   K\n",
      "Mutant 42             :  M   A   T   V   K   F   K   Y   K   G   E   E   K   Q   V   D   I   S   K   I   T   H   V   L   R \u001b[31m Y\u001b[0m  G   K   I   I   F   F   S   Y   D   L   G   G   G   K   K   G   R   G   K   V   S   E   K   D   A   P   K   E   L   L   Q   M   L   E   L   Q   K\n",
      "Substitution Position :  1   2   3   4   5   6   7   8   9  10  11  12  13  14  15  16  17  18  19  20  21  22  23  24  25  26  27  28 \u001b[31m29\u001b[0m 30  31  32  33  34  35  36  37  38  39  40  41  42  43  44  45  46  47  48  49  50  51  52  53  54  55  56  57  58  59  60  61  62  63\n",
      "Original Sequence     :  M   A   T   V   K   F   K   Y   K   G   E   E   K   Q   V   D   I   S   K   I   T   H   V   L   R   T   G   K \u001b[32m I\u001b[0m  I   F   F   S   Y   D   L   G   G   G   K   K   G   R   G   K   V   S   E   K   D   A   P   K   E   L   L   Q   M   L   E   L   Q   K\n",
      "Mutant 43             :  M   A   T   V   K   F   K   Y   K   G   E   E   K   Q   V   D   I   S   K   I   T   H   V   L   R   T   G   K \u001b[31m A\u001b[0m  I   F   F   S   Y   D   L   G   G   G   K   K   G   R   G   K   V   S   E   K   D   A   P   K   E   L   L   Q   M   L   E   L   Q   K\n",
      "Mutant 44             :  M   A   T   V   K   F   K   Y   K   G   E   E   K   Q   V   D   I   S   K   I   T   H   V   L   R   T   G   K \u001b[31m R\u001b[0m  I   F   F   S   Y   D   L   G   G   G   K   K   G   R   G   K   V   S   E   K   D   A   P   K   E   L   L   Q   M   L   E   L   Q   K\n",
      "Mutant 45             :  M   A   T   V   K   F   K   Y   K   G   E   E   K   Q   V   D   I   S   K   I   T   H   V   L   R   T   G   K \u001b[31m N\u001b[0m  I   F   F   S   Y   D   L   G   G   G   K   K   G   R   G   K   V   S   E   K   D   A   P   K   E   L   L   Q   M   L   E   L   Q   K\n",
      "Mutant 46             :  M   A   T   V   K   F   K   Y   K   G   E   E   K   Q   V   D   I   S   K   I   T   H   V   L   R   T   G   K \u001b[31m D\u001b[0m  I   F   F   S   Y   D   L   G   G   G   K   K   G   R   G   K   V   S   E   K   D   A   P   K   E   L   L   Q   M   L   E   L   Q   K\n",
      "Mutant 47             :  M   A   T   V   K   F   K   Y   K   G   E   E   K   Q   V   D   I   S   K   I   T   H   V   L   R   T   G   K \u001b[31m E\u001b[0m  I   F   F   S   Y   D   L   G   G   G   K   K   G   R   G   K   V   S   E   K   D   A   P   K   E   L   L   Q   M   L   E   L   Q   K\n",
      "Mutant 48             :  M   A   T   V   K   F   K   Y   K   G   E   E   K   Q   V   D   I   S   K   I   T   H   V   L   R   T   G   K \u001b[31m Q\u001b[0m  I   F   F   S   Y   D   L   G   G   G   K   K   G   R   G   K   V   S   E   K   D   A   P   K   E   L   L   Q   M   L   E   L   Q   K\n",
      "Mutant 49             :  M   A   T   V   K   F   K   Y   K   G   E   E   K   Q   V   D   I   S   K   I   T   H   V   L   R   T   G   K \u001b[31m G\u001b[0m  I   F   F   S   Y   D   L   G   G   G   K   K   G   R   G   K   V   S   E   K   D   A   P   K   E   L   L   Q   M   L   E   L   Q   K\n",
      "Mutant 50             :  M   A   T   V   K   F   K   Y   K   G   E   E   K   Q   V   D   I   S   K   I   T   H   V   L   R   T   G   K \u001b[31m H\u001b[0m  I   F   F   S   Y   D   L   G   G   G   K   K   G   R   G   K   V   S   E   K   D   A   P   K   E   L   L   Q   M   L   E   L   Q   K\n",
      "Mutant 51             :  M   A   T   V   K   F   K   Y   K   G   E   E   K   Q   V   D   I   S   K   I   T   H   V   L   R   T   G   K \u001b[31m L\u001b[0m  I   F   F   S   Y   D   L   G   G   G   K   K   G   R   G   K   V   S   E   K   D   A   P   K   E   L   L   Q   M   L   E   L   Q   K\n",
      "Mutant 52             :  M   A   T   V   K   F   K   Y   K   G   E   E   K   Q   V   D   I   S   K   I   T   H   V   L   R   T   G   K \u001b[31m K\u001b[0m  I   F   F   S   Y   D   L   G   G   G   K   K   G   R   G   K   V   S   E   K   D   A   P   K   E   L   L   Q   M   L   E   L   Q   K\n",
      "Mutant 53             :  M   A   T   V   K   F   K   Y   K   G   E   E   K   Q   V   D   I   S   K   I   T   H   V   L   R   T   G   K \u001b[31m F\u001b[0m  I   F   F   S   Y   D   L   G   G   G   K   K   G   R   G   K   V   S   E   K   D   A   P   K   E   L   L   Q   M   L   E   L   Q   K\n",
      "Mutant 54             :  M   A   T   V   K   F   K   Y   K   G   E   E   K   Q   V   D   I   S   K   I   T   H   V   L   R   T   G   K \u001b[31m P\u001b[0m  I   F   F   S   Y   D   L   G   G   G   K   K   G   R   G   K   V   S   E   K   D   A   P   K   E   L   L   Q   M   L   E   L   Q   K\n",
      "Mutant 55             :  M   A   T   V   K   F   K   Y   K   G   E   E   K   Q   V   D   I   S   K   I   T   H   V   L   R   T   G   K \u001b[31m S\u001b[0m  I   F   F   S   Y   D   L   G   G   G   K   K   G   R   G   K   V   S   E   K   D   A   P   K   E   L   L   Q   M   L   E   L   Q   K\n",
      "Mutant 56             :  M   A   T   V   K   F   K   Y   K   G   E   E   K   Q   V   D   I   S   K   I   T   H   V   L   R   T   G   K \u001b[31m T\u001b[0m  I   F   F   S   Y   D   L   G   G   G   K   K   G   R   G   K   V   S   E   K   D   A   P   K   E   L   L   Q   M   L   E   L   Q   K\n",
      "Mutant 57             :  M   A   T   V   K   F   K   Y   K   G   E   E   K   Q   V   D   I   S   K   I   T   H   V   L   R   T   G   K \u001b[31m W\u001b[0m  I   F   F   S   Y   D   L   G   G   G   K   K   G   R   G   K   V   S   E   K   D   A   P   K   E   L   L   Q   M   L   E   L   Q   K\n",
      "Mutant 58             :  M   A   T   V   K   F   K   Y   K   G   E   E   K   Q   V   D   I   S   K   I   T   H   V   L   R   T   G   K \u001b[31m Y\u001b[0m  I   F   F   S   Y   D   L   G   G   G   K   K   G   R   G   K   V   S   E   K   D   A   P   K   E   L   L   Q   M   L   E   L   Q   K\n",
      "Mutant 59             :  M   A   T   V   K   F   K   Y   K   G   E   E   K   Q   V   D   I   S   K   I   T   H   V   L   R   T   G   K \u001b[31m V\u001b[0m  I   F   F   S   Y   D   L   G   G   G   K   K   G   R   G   K   V   S   E   K   D   A   P   K   E   L   L   Q   M   L   E   L   Q   K\n",
      "Substitution Position :  1   2   3   4   5   6   7   8   9  10  11  12  13  14  15  16  17  18  19  20  21  22  23  24  25  26  27  28  29  30 \u001b[31m31\u001b[0m 32  33  34  35  36  37  38  39  40  41  42  43  44  45  46  47  48  49  50  51  52  53  54  55  56  57  58  59  60  61  62  63\n",
      "Original Sequence     :  M   A   T   V   K   F   K   Y   K   G   E   E   K   Q   V   D   I   S   K   I   T   H   V   L   R   T   G   K   I   I \u001b[32m F\u001b[0m  F   S   Y   D   L   G   G   G   K   K   G   R   G   K   V   S   E   K   D   A   P   K   E   L   L   Q   M   L   E   L   Q   K\n",
      "Substitution Position :  1   2   3   4   5   6   7   8   9  10  11  12  13  14  15  16  17  18  19  20  21  22  23  24  25  26  27  28  29  30  31  32 \u001b[31m33\u001b[0m 34  35  36  37  38  39  40  41  42  43  44  45  46  47  48  49  50  51  52  53  54  55  56  57  58  59  60  61  62  63\n",
      "Original Sequence     :  M   A   T   V   K   F   K   Y   K   G   E   E   K   Q   V   D   I   S   K   I   T   H   V   L   R   T   G   K   I   I   F   F \u001b[32m S\u001b[0m  Y   D   L   G   G   G   K   K   G   R   G   K   V   S   E   K   D   A   P   K   E   L   L   Q   M   L   E   L   Q   K\n",
      "Mutant 60             :  M   A   T   V   K   F   K   Y   K   G   E   E   K   Q   V   D   I   S   K   I   T   H   V   L   R   T   G   K   I   I   F   F \u001b[31m A\u001b[0m  Y   D   L   G   G   G   K   K   G   R   G   K   V   S   E   K   D   A   P   K   E   L   L   Q   M   L   E   L   Q   K\n",
      "Mutant 61             :  M   A   T   V   K   F   K   Y   K   G   E   E   K   Q   V   D   I   S   K   I   T   H   V   L   R   T   G   K   I   I   F   F \u001b[31m R\u001b[0m  Y   D   L   G   G   G   K   K   G   R   G   K   V   S   E   K   D   A   P   K   E   L   L   Q   M   L   E   L   Q   K\n",
      "Mutant 62             :  M   A   T   V   K   F   K   Y   K   G   E   E   K   Q   V   D   I   S   K   I   T   H   V   L   R   T   G   K   I   I   F   F \u001b[31m N\u001b[0m  Y   D   L   G   G   G   K   K   G   R   G   K   V   S   E   K   D   A   P   K   E   L   L   Q   M   L   E   L   Q   K\n",
      "Mutant 63             :  M   A   T   V   K   F   K   Y   K   G   E   E   K   Q   V   D   I   S   K   I   T   H   V   L   R   T   G   K   I   I   F   F \u001b[31m D\u001b[0m  Y   D   L   G   G   G   K   K   G   R   G   K   V   S   E   K   D   A   P   K   E   L   L   Q   M   L   E   L   Q   K\n",
      "Mutant 64             :  M   A   T   V   K   F   K   Y   K   G   E   E   K   Q   V   D   I   S   K   I   T   H   V   L   R   T   G   K   I   I   F   F \u001b[31m E\u001b[0m  Y   D   L   G   G   G   K   K   G   R   G   K   V   S   E   K   D   A   P   K   E   L   L   Q   M   L   E   L   Q   K\n",
      "Mutant 65             :  M   A   T   V   K   F   K   Y   K   G   E   E   K   Q   V   D   I   S   K   I   T   H   V   L   R   T   G   K   I   I   F   F \u001b[31m Q\u001b[0m  Y   D   L   G   G   G   K   K   G   R   G   K   V   S   E   K   D   A   P   K   E   L   L   Q   M   L   E   L   Q   K\n",
      "Mutant 66             :  M   A   T   V   K   F   K   Y   K   G   E   E   K   Q   V   D   I   S   K   I   T   H   V   L   R   T   G   K   I   I   F   F \u001b[31m G\u001b[0m  Y   D   L   G   G   G   K   K   G   R   G   K   V   S   E   K   D   A   P   K   E   L   L   Q   M   L   E   L   Q   K\n",
      "Mutant 67             :  M   A   T   V   K   F   K   Y   K   G   E   E   K   Q   V   D   I   S   K   I   T   H   V   L   R   T   G   K   I   I   F   F \u001b[31m H\u001b[0m  Y   D   L   G   G   G   K   K   G   R   G   K   V   S   E   K   D   A   P   K   E   L   L   Q   M   L   E   L   Q   K\n",
      "Mutant 68             :  M   A   T   V   K   F   K   Y   K   G   E   E   K   Q   V   D   I   S   K   I   T   H   V   L   R   T   G   K   I   I   F   F \u001b[31m I\u001b[0m  Y   D   L   G   G   G   K   K   G   R   G   K   V   S   E   K   D   A   P   K   E   L   L   Q   M   L   E   L   Q   K\n",
      "Mutant 69             :  M   A   T   V   K   F   K   Y   K   G   E   E   K   Q   V   D   I   S   K   I   T   H   V   L   R   T   G   K   I   I   F   F \u001b[31m L\u001b[0m  Y   D   L   G   G   G   K   K   G   R   G   K   V   S   E   K   D   A   P   K   E   L   L   Q   M   L   E   L   Q   K\n",
      "Mutant 70             :  M   A   T   V   K   F   K   Y   K   G   E   E   K   Q   V   D   I   S   K   I   T   H   V   L   R   T   G   K   I   I   F   F \u001b[31m K\u001b[0m  Y   D   L   G   G   G   K   K   G   R   G   K   V   S   E   K   D   A   P   K   E   L   L   Q   M   L   E   L   Q   K\n",
      "Mutant 71             :  M   A   T   V   K   F   K   Y   K   G   E   E   K   Q   V   D   I   S   K   I   T   H   V   L   R   T   G   K   I   I   F   F \u001b[31m F\u001b[0m  Y   D   L   G   G   G   K   K   G   R   G   K   V   S   E   K   D   A   P   K   E   L   L   Q   M   L   E   L   Q   K\n",
      "Mutant 72             :  M   A   T   V   K   F   K   Y   K   G   E   E   K   Q   V   D   I   S   K   I   T   H   V   L   R   T   G   K   I   I   F   F \u001b[31m P\u001b[0m  Y   D   L   G   G   G   K   K   G   R   G   K   V   S   E   K   D   A   P   K   E   L   L   Q   M   L   E   L   Q   K\n",
      "Mutant 73             :  M   A   T   V   K   F   K   Y   K   G   E   E   K   Q   V   D   I   S   K   I   T   H   V   L   R   T   G   K   I   I   F   F \u001b[31m T\u001b[0m  Y   D   L   G   G   G   K   K   G   R   G   K   V   S   E   K   D   A   P   K   E   L   L   Q   M   L   E   L   Q   K\n",
      "Mutant 74             :  M   A   T   V   K   F   K   Y   K   G   E   E   K   Q   V   D   I   S   K   I   T   H   V   L   R   T   G   K   I   I   F   F \u001b[31m W\u001b[0m  Y   D   L   G   G   G   K   K   G   R   G   K   V   S   E   K   D   A   P   K   E   L   L   Q   M   L   E   L   Q   K\n",
      "Mutant 75             :  M   A   T   V   K   F   K   Y   K   G   E   E   K   Q   V   D   I   S   K   I   T   H   V   L   R   T   G   K   I   I   F   F \u001b[31m Y\u001b[0m  Y   D   L   G   G   G   K   K   G   R   G   K   V   S   E   K   D   A   P   K   E   L   L   Q   M   L   E   L   Q   K\n",
      "Mutant 76             :  M   A   T   V   K   F   K   Y   K   G   E   E   K   Q   V   D   I   S   K   I   T   H   V   L   R   T   G   K   I   I   F   F \u001b[31m V\u001b[0m  Y   D   L   G   G   G   K   K   G   R   G   K   V   S   E   K   D   A   P   K   E   L   L   Q   M   L   E   L   Q   K\n",
      "Substitution Position :  1   2   3   4   5   6   7   8   9  10  11  12  13  14  15  16  17  18  19  20  21  22  23  24  25  26  27  28  29  30  31  32  33  34  35  36  37  38  39  40 \u001b[31m41\u001b[0m 42  43  44  45  46  47  48  49  50  51  52  53  54  55  56  57  58  59  60  61  62  63\n",
      "Original Sequence     :  M   A   T   V   K   F   K   Y   K   G   E   E   K   Q   V   D   I   S   K   I   T   H   V   L   R   T   G   K   I   I   F   F   S   Y   D   L   G   G   G   K \u001b[32m K\u001b[0m  G   R   G   K   V   S   E   K   D   A   P   K   E   L   L   Q   M   L   E   L   Q   K\n",
      "Mutant 77             :  M   A   T   V   K   F   K   Y   K   G   E   E   K   Q   V   D   I   S   K   I   T   H   V   L   R   T   G   K   I   I   F   F   S   Y   D   L   G   G   G   K \u001b[31m Y\u001b[0m  G   R   G   K   V   S   E   K   D   A   P   K   E   L   L   Q   M   L   E   L   Q   K\n",
      "Mutant 78             :  M   A   T   V   K   F   K   Y   K   G   E   E   K   Q   V   D   I   S   K   I   T   H   V   L   R   T   G   K   I   I   F   F   S   Y   D   L   G   G   G   K \u001b[31m V\u001b[0m  G   R   G   K   V   S   E   K   D   A   P   K   E   L   L   Q   M   L   E   L   Q   K\n",
      "Mutant 79             :  M   A   T   V   K   F   K   Y   K   G   E   E   K   Q   V   D   I   S   K   I   T   H   V   L   R   T   G   K   I   I   F   F   S   Y   D   L   G   G   G   K \u001b[31m F\u001b[0m  G   R   G   K   V   S   E   K   D   A   P   K   E   L   L   Q   M   L   E   L   Q   K\n",
      "Mutant 80             :  M   A   T   V   K   F   K   Y   K   G   E   E   K   Q   V   D   I   S   K   I   T   H   V   L   R   T   G   K   I   I   F   F   S   Y   D   L   G   G   G   K \u001b[31m A\u001b[0m  G   R   G   K   V   S   E   K   D   A   P   K   E   L   L   Q   M   L   E   L   Q   K\n",
      "Mutant 81             :  M   A   T   V   K   F   K   Y   K   G   E   E   K   Q   V   D   I   S   K   I   T   H   V   L   R   T   G   K   I   I   F   F   S   Y   D   L   G   G   G   K \u001b[31m I\u001b[0m  G   R   G   K   V   S   E   K   D   A   P   K   E   L   L   Q   M   L   E   L   Q   K\n",
      "Mutant 82             :  M   A   T   V   K   F   K   Y   K   G   E   E   K   Q   V   D   I   S   K   I   T   H   V   L   R   T   G   K   I   I   F   F   S   Y   D   L   G   G   G   K \u001b[31m L\u001b[0m  G   R   G   K   V   S   E   K   D   A   P   K   E   L   L   Q   M   L   E   L   Q   K\n",
      "Mutant 83             :  M   A   T   V   K   F   K   Y   K   G   E   E   K   Q   V   D   I   S   K   I   T   H   V   L   R   T   G   K   I   I   F   F   S   Y   D   L   G   G   G   K \u001b[31m R\u001b[0m  G   R   G   K   V   S   E   K   D   A   P   K   E   L   L   Q   M   L   E   L   Q   K\n",
      "Substitution Position :  1   2   3   4   5   6   7   8   9  10  11  12  13  14  15  16  17  18  19  20  21  22  23  24  25  26  27  28  29  30  31  32  33  34  35  36  37  38  39  40  41  42 \u001b[31m43\u001b[0m 44  45  46  47  48  49  50  51  52  53  54  55  56  57  58  59  60  61  62  63\n",
      "Original Sequence     :  M   A   T   V   K   F   K   Y   K   G   E   E   K   Q   V   D   I   S   K   I   T   H   V   L   R   T   G   K   I   I   F   F   S   Y   D   L   G   G   G   K   K   G \u001b[32m R\u001b[0m  G   K   V   S   E   K   D   A   P   K   E   L   L   Q   M   L   E   L   Q   K\n",
      "Substitution Position :  1   2   3   4   5   6   7   8   9  10  11  12  13  14  15  16  17  18  19  20  21  22  23  24  25  26  27  28  29  30  31  32  33  34  35  36  37  38  39  40  41  42  43  44 \u001b[31m45\u001b[0m 46  47  48  49  50  51  52  53  54  55  56  57  58  59  60  61  62  63\n",
      "Original Sequence     :  M   A   T   V   K   F   K   Y   K   G   E   E   K   Q   V   D   I   S   K   I   T   H   V   L   R   T   G   K   I   I   F   F   S   Y   D   L   G   G   G   K   K   G   R   G \u001b[32m K\u001b[0m  V   S   E   K   D   A   P   K   E   L   L   Q   M   L   E   L   Q   K\n",
      "Mutant 84             :  M   A   T   V   K   F   K   Y   K   G   E   E   K   Q   V   D   I   S   K   I   T   H   V   L   R   T   G   K   I   I   F   F   S   Y   D   L   G   G   G   K   K   G   R   G \u001b[31m R\u001b[0m  V   S   E   K   D   A   P   K   E   L   L   Q   M   L   E   L   Q   K\n"
     ]
    }
   ],
   "source": [
    "print_mutant_sequences(substitutions=substitutions,original_sequence=sdy71_seq,mutants_list=sdy71_mutants)"
   ]
  }
 ],
 "metadata": {
  "kernelspec": {
   "display_name": "base",
   "language": "python",
   "name": "python3"
  },
  "language_info": {
   "codemirror_mode": {
    "name": "ipython",
    "version": 3
   },
   "file_extension": ".py",
   "mimetype": "text/x-python",
   "name": "python",
   "nbconvert_exporter": "python",
   "pygments_lexer": "ipython3",
   "version": "3.12.7"
  }
 },
 "nbformat": 4,
 "nbformat_minor": 2
}
